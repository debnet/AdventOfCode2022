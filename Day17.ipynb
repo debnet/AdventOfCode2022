{
 "cells": [
  {
   "cell_type": "code",
   "execution_count": 1,
   "id": "2e9f5399-9442-4c70-9768-c1bb0a931d9e",
   "metadata": {},
   "outputs": [],
   "source": [
    "from itertools import cycle\n",
    "\n",
    "def generators():\n",
    "    with open(\"Day17.txt\") as file:\n",
    "        jets = cycle(enumerate(c for c in file.read()))\n",
    "    rocks = cycle(enumerate((\n",
    "        lambda y: {(2, y + 4), (3, y + 4), (4, y + 4), (5, y + 4)},\n",
    "        lambda y: {(3, y + 6), (2, y + 5), (3, y + 5), (4, y + 5), (3, y + 4)},\n",
    "        lambda y: {(4, y + 6), (4, y + 5), (2, y + 4), (3, y + 4), (4, y + 4)},\n",
    "        lambda y: {(2, y + 7), (2, y + 6), (2, y + 5), (2, y + 4)},\n",
    "        lambda y: {(2, y + 5), (3, y + 5), (2, y + 4), (3, y + 4)},\n",
    "    )))\n",
    "    return jets, rocks"
   ]
  },
  {
   "cell_type": "code",
   "execution_count": 2,
   "id": "27ae982c-a7bd-4cd5-9fbe-c70b23e3f330",
   "metadata": {},
   "outputs": [],
   "source": [
    "def move_left(rock, chamber):\n",
    "    new_rock = {(x - 1, y) for x, y in rock}\n",
    "    if any(x < 0 for x, y in new_rock) or new_rock & chamber:\n",
    "        return rock\n",
    "    return new_rock\n",
    "\n",
    "def move_right(rock, chamber):\n",
    "    new_rock = {(x + 1, y) for x, y in rock}\n",
    "    if any(x > 6 for x, y in new_rock) or new_rock & chamber:\n",
    "        return rock\n",
    "    return new_rock\n",
    "\n",
    "def move_down(rock, chamber):\n",
    "    new_rock = {(x, y - 1) for x, y in rock}\n",
    "    return rock if new_rock & chamber else new_rock\n",
    "\n",
    "jet_move = {\n",
    "    \"<\": move_left,\n",
    "    \">\": move_right,\n",
    "}"
   ]
  },
  {
   "cell_type": "code",
   "execution_count": 3,
   "id": "4aecc03b-408c-4119-bcec-d66c42ab78a7",
   "metadata": {},
   "outputs": [],
   "source": [
    "def run(total_rocks):\n",
    "    height = 0\n",
    "    cycles = {}\n",
    "    chamber = {(i, 0) for i in range(7)}\n",
    "    jets, rocks = generators()\n",
    "    for rock_number in range(total_rocks):\n",
    "        rock_index, rock_builder = next(rocks)\n",
    "        rock = rock_builder(height)\n",
    "        while True:\n",
    "            jet_index, direction = next(jets)\n",
    "            cycle_key = (rock_index, jet_index)\n",
    "            if cycle_key in cycles:\n",
    "                previous_rock_number, previous_height = cycles[cycle_key]\n",
    "                cycle_period = rock_number - previous_rock_number\n",
    "                if rock_number % cycle_period == total_rocks % cycle_period:\n",
    "                    cycle_height = height - previous_height\n",
    "                    remaining_rocks = total_rocks - rock_number\n",
    "                    remaining_cycles = (remaining_rocks // cycle_period) + 1\n",
    "                    estimated_height = previous_height + (cycle_height * remaining_cycles)\n",
    "                    print(f\"Cycle of period {cycle_period} detected at iteration {previous_rock_number} / {rock_number}\")\n",
    "                    return estimated_height\n",
    "            else:\n",
    "                cycles[cycle_key] = (rock_number, height)\n",
    "            rock = jet_move[direction](rock, chamber)\n",
    "            new_rock = move_down(rock, chamber)\n",
    "            if rock == new_rock:\n",
    "                chamber.update(rock)\n",
    "                height = max(y for x, y in chamber)\n",
    "                break\n",
    "            rock = new_rock\n",
    "    return height"
   ]
  },
  {
   "cell_type": "code",
   "execution_count": 4,
   "id": "09ccc5f9-71e7-40c4-a169-ff90fcfabce1",
   "metadata": {},
   "outputs": [
    {
     "name": "stdout",
     "output_type": "stream",
     "text": [
      "CPU times: user 685 ms, sys: 5.04 ms, total: 690 ms\n",
      "Wall time: 692 ms\n"
     ]
    },
    {
     "data": {
      "text/plain": [
       "3191"
      ]
     },
     "execution_count": 4,
     "metadata": {},
     "output_type": "execute_result"
    }
   ],
   "source": [
    "%%time\n",
    "run(2022)"
   ]
  },
  {
   "cell_type": "code",
   "execution_count": 5,
   "id": "f2e23728-8235-46a0-9c41-2b63ec074898",
   "metadata": {},
   "outputs": [
    {
     "name": "stdout",
     "output_type": "stream",
     "text": [
      "Cycle of period 1720 detected at iteration 1440 / 3160\n",
      "CPU times: user 1.58 s, sys: 1.94 ms, total: 1.58 s\n",
      "Wall time: 1.59 s\n"
     ]
    },
    {
     "data": {
      "text/plain": [
       "1572093023267"
      ]
     },
     "execution_count": 5,
     "metadata": {},
     "output_type": "execute_result"
    }
   ],
   "source": [
    "%%time\n",
    "run(1_000_000_000_000)"
   ]
  }
 ],
 "metadata": {
  "kernelspec": {
   "display_name": "Python 3 (ipykernel)",
   "language": "python",
   "name": "python3"
  },
  "language_info": {
   "codemirror_mode": {
    "name": "ipython",
    "version": 3
   },
   "file_extension": ".py",
   "mimetype": "text/x-python",
   "name": "python",
   "nbconvert_exporter": "python",
   "pygments_lexer": "ipython3",
   "version": "3.10.9"
  }
 },
 "nbformat": 4,
 "nbformat_minor": 5
}
