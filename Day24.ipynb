{
 "cells": [
  {
   "cell_type": "code",
   "execution_count": 1,
   "id": "1be269ac-6871-439a-991b-f5215cb6dfd9",
   "metadata": {},
   "outputs": [],
   "source": [
    "walls, places, storms = set(), set(), dict()\n",
    "directions = {\">\": (+1, 0), \"<\": (-1, 0), \"v\": (0, +1), \"^\": (0, -1)}\n",
    "\n",
    "with open(\"Day24.txt\") as file:\n",
    "    for y, row in enumerate(file, start=-1):\n",
    "        for x, col in enumerate(row.strip(), start=-1):\n",
    "            match col:\n",
    "                case \"#\":\n",
    "                    walls.add((x, y))\n",
    "                case \".\":\n",
    "                    places.add((x, y))\n",
    "                case s:\n",
    "                    storms[x, y] = {directions[s]}\n",
    "\n",
    "width, height = x, y\n",
    "start, end = (0, -1), (width - 1, height)"
   ]
  },
  {
   "cell_type": "code",
   "execution_count": 2,
   "id": "a1554537-bfcd-47b8-a36a-1d453bf7be21",
   "metadata": {},
   "outputs": [],
   "source": [
    "from collections import defaultdict\n",
    "\n",
    "def run_storms(storms):\n",
    "    next_storms = defaultdict(set)\n",
    "    for (x, y), directions in storms.items():\n",
    "        for dx, dy in directions:\n",
    "            pos = ((x + dx) % width, (y + dy) % height)\n",
    "            next_storms[pos].add((dx, dy))\n",
    "    return next_storms"
   ]
  },
  {
   "cell_type": "code",
   "execution_count": 3,
   "id": "1ecbf892-4cbe-46af-8bac-88f6b99b9c50",
   "metadata": {},
   "outputs": [],
   "source": [
    "def is_valid(x, y):\n",
    "    return (0 <= x < width and 0 <= y < height) or (x, y) == start or (x, y) == end\n",
    "\n",
    "def run_elf(places, storms):\n",
    "    next_places = set.union(*({\n",
    "        (x + dx, y + dy) \n",
    "        for dx, dy in ((0, 0), *directions.values()) \n",
    "        if is_valid(x + dx, y + dy)\n",
    "    } for x, y in places))\n",
    "    next_places -= storms.keys()\n",
    "    return next_places"
   ]
  },
  {
   "cell_type": "code",
   "execution_count": 4,
   "id": "4f37709d-dec0-4c27-a480-c176ccf4ebb1",
   "metadata": {},
   "outputs": [],
   "source": [
    "def solve(start, end, storms, loops=1):\n",
    "    count = 0\n",
    "    a, b = start, end\n",
    "    for loop in range(loops):\n",
    "        places = {a}\n",
    "        while b not in places:\n",
    "            storms = run_storms(storms)\n",
    "            places = run_elf(places, storms)\n",
    "            count += 1\n",
    "        a, b = b, a\n",
    "    return count"
   ]
  },
  {
   "cell_type": "code",
   "execution_count": 5,
   "id": "4edf3990-9d0e-405b-a3ec-34e200d53117",
   "metadata": {},
   "outputs": [
    {
     "name": "stdout",
     "output_type": "stream",
     "text": [
      "CPU times: user 1.23 s, sys: 3.28 ms, total: 1.23 s\n",
      "Wall time: 1.24 s\n"
     ]
    },
    {
     "data": {
      "text/plain": [
       "247"
      ]
     },
     "execution_count": 5,
     "metadata": {},
     "output_type": "execute_result"
    }
   ],
   "source": [
    "%%time\n",
    "solve(start, end, storms)"
   ]
  },
  {
   "cell_type": "code",
   "execution_count": 6,
   "id": "d8b28eaf-7433-4270-b015-2496debed9b4",
   "metadata": {},
   "outputs": [
    {
     "name": "stdout",
     "output_type": "stream",
     "text": [
      "CPU times: user 3.49 s, sys: 21 µs, total: 3.49 s\n",
      "Wall time: 3.51 s\n"
     ]
    },
    {
     "data": {
      "text/plain": [
       "728"
      ]
     },
     "execution_count": 6,
     "metadata": {},
     "output_type": "execute_result"
    }
   ],
   "source": [
    "%%time\n",
    "solve(start, end, storms, loops=3)"
   ]
  }
 ],
 "metadata": {
  "kernelspec": {
   "display_name": "Python 3 (ipykernel)",
   "language": "python",
   "name": "python3"
  },
  "language_info": {
   "codemirror_mode": {
    "name": "ipython",
    "version": 3
   },
   "file_extension": ".py",
   "mimetype": "text/x-python",
   "name": "python",
   "nbconvert_exporter": "python",
   "pygments_lexer": "ipython3",
   "version": "3.10.9"
  }
 },
 "nbformat": 4,
 "nbformat_minor": 5
}
