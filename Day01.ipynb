{
 "cells": [
  {
   "cell_type": "code",
   "execution_count": 1,
   "id": "7814f434-3493-4887-9008-f5b388396369",
   "metadata": {},
   "outputs": [],
   "source": [
    "elves = {}\n",
    "with open(\"Day01.txt\") as file:\n",
    "    snacks = elves.setdefault(len(elves) + 1, [])\n",
    "    for line in file:\n",
    "        if value := line.strip():\n",
    "            snacks.append(int(value))\n",
    "        else:\n",
    "            snacks = elves.setdefault(len(elves) + 1, [])"
   ]
  },
  {
   "cell_type": "code",
   "execution_count": 2,
   "id": "b1228ec8-3e3f-4894-a41d-781501ee0655",
   "metadata": {},
   "outputs": [
    {
     "data": {
      "text/plain": [
       "68923"
      ]
     },
     "execution_count": 2,
     "metadata": {},
     "output_type": "execute_result"
    }
   ],
   "source": [
    "sums = [sum(values) for values in elves.values()]\n",
    "max(sums)"
   ]
  },
  {
   "cell_type": "code",
   "execution_count": 3,
   "id": "b192b67e-36de-49e1-8d78-94ba2affa1aa",
   "metadata": {},
   "outputs": [
    {
     "data": {
      "text/plain": [
       "200044"
      ]
     },
     "execution_count": 3,
     "metadata": {},
     "output_type": "execute_result"
    }
   ],
   "source": [
    "sum(sorted(sums, reverse=True)[:3])"
   ]
  }
 ],
 "metadata": {
  "kernelspec": {
   "display_name": "Python 3 (ipykernel)",
   "language": "python",
   "name": "python3"
  },
  "language_info": {
   "codemirror_mode": {
    "name": "ipython",
    "version": 3
   },
   "file_extension": ".py",
   "mimetype": "text/x-python",
   "name": "python",
   "nbconvert_exporter": "python",
   "pygments_lexer": "ipython3",
   "version": "3.10.7"
  }
 },
 "nbformat": 4,
 "nbformat_minor": 5
}
