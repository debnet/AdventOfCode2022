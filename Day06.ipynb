{
 "cells": [
  {
   "cell_type": "code",
   "execution_count": 1,
   "id": "8a04f939-e923-4ed3-9936-0bad042065d8",
   "metadata": {},
   "outputs": [],
   "source": [
    "with open(\"Day06.txt\") as file:\n",
    "    data = file.read()"
   ]
  },
  {
   "cell_type": "code",
   "execution_count": 2,
   "id": "c497d111-aa68-4eb5-a98f-7cac488e26a0",
   "metadata": {},
   "outputs": [],
   "source": [
    "def detect(data, length=4):\n",
    "    for i in range(len(data)-length+1):\n",
    "        marker = data[i:i+length]\n",
    "        if len(set(marker)) == length:\n",
    "            return marker, i+length"
   ]
  },
  {
   "cell_type": "code",
   "execution_count": 3,
   "id": "a5d0f7ee-5bcb-48d4-8255-c6beeb6b0e78",
   "metadata": {},
   "outputs": [
    {
     "data": {
      "text/plain": [
       "('hzwl', 1850)"
      ]
     },
     "execution_count": 3,
     "metadata": {},
     "output_type": "execute_result"
    }
   ],
   "source": [
    "detect(data, 4)"
   ]
  },
  {
   "cell_type": "code",
   "execution_count": 4,
   "id": "b3b82349-aff6-4b47-816b-c0daa276e33f",
   "metadata": {},
   "outputs": [
    {
     "data": {
      "text/plain": [
       "('jhcbldzqpmtnfv', 2823)"
      ]
     },
     "execution_count": 4,
     "metadata": {},
     "output_type": "execute_result"
    }
   ],
   "source": [
    "detect(data, 14)"
   ]
  }
 ],
 "metadata": {
  "kernelspec": {
   "display_name": "Python 3 (ipykernel)",
   "language": "python",
   "name": "python3"
  },
  "language_info": {
   "codemirror_mode": {
    "name": "ipython",
    "version": 3
   },
   "file_extension": ".py",
   "mimetype": "text/x-python",
   "name": "python",
   "nbconvert_exporter": "python",
   "pygments_lexer": "ipython3",
   "version": "3.10.7"
  }
 },
 "nbformat": 4,
 "nbformat_minor": 5
}
