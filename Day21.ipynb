{
 "cells": [
  {
   "cell_type": "code",
   "execution_count": 1,
   "id": "21032b4c-3a95-4c9b-9eea-6c384c2f230e",
   "metadata": {},
   "outputs": [],
   "source": [
    "import re\n",
    "from dataclasses import dataclass, field\n",
    "from operator import add, sub, mul, truediv\n",
    "from typing import Callable\n",
    "from __future__ import annotations\n",
    "\n",
    "operators = {\n",
    "    \"+\": add,\n",
    "    \"-\": sub,\n",
    "    \"*\": mul,\n",
    "    \"/\": truediv,\n",
    "}\n",
    "\n",
    "@dataclass\n",
    "class Node:\n",
    "    name: str\n",
    "    data: list[str]\n",
    "    val: int | None = field(default=None)\n",
    "    op: Callable | None = field(init=False)\n",
    "    lhs: Node | None = field(init=False)\n",
    "    rhs: Node | None = field(init=False)\n",
    "    \n",
    "    def calc(self):\n",
    "        if self.val:\n",
    "            return self.val\n",
    "        return self.op(self.lhs.calc(), self.rhs.calc())\n",
    "\n",
    "nodes = {}\n",
    "with open(\"Day21.txt\") as file:\n",
    "    for line in file:\n",
    "        name, *data = re.split(r\"[\\s\\:]+\", line.strip())\n",
    "        if len(data) == 1:\n",
    "            val, = map(int, data)\n",
    "            nodes[name] = Node(name, data, val)\n",
    "        else:\n",
    "            nodes[name] = Node(name, data)\n",
    "\n",
    "def build_tree(nodes, name=\"root\"):\n",
    "    node = nodes[name]\n",
    "    if not node.val:\n",
    "        lhs_name, op, rhs_name = node.data\n",
    "        node.lhs = nodes[lhs_name]\n",
    "        node.rhs = nodes[rhs_name]\n",
    "        node.op = operators[op]\n",
    "        build_tree(nodes, lhs_name)\n",
    "        build_tree(nodes, rhs_name)\n",
    "\n",
    "build_tree(nodes)"
   ]
  },
  {
   "cell_type": "code",
   "execution_count": 2,
   "id": "cb42a5cb-2f20-4a94-90b7-64e312d3cd5f",
   "metadata": {},
   "outputs": [
    {
     "name": "stdout",
     "output_type": "stream",
     "text": [
      "CPU times: user 797 µs, sys: 0 ns, total: 797 µs\n",
      "Wall time: 806 µs\n"
     ]
    },
    {
     "data": {
      "text/plain": [
       "309248622142100"
      ]
     },
     "execution_count": 2,
     "metadata": {},
     "output_type": "execute_result"
    }
   ],
   "source": [
    "%%time\n",
    "root = nodes[\"root\"]\n",
    "int(root.calc())"
   ]
  },
  {
   "cell_type": "code",
   "execution_count": 3,
   "id": "399addc8-0369-4304-9721-d09f290dd196",
   "metadata": {},
   "outputs": [
    {
     "name": "stdout",
     "output_type": "stream",
     "text": [
      "CPU times: user 816 µs, sys: 0 ns, total: 816 µs\n",
      "Wall time: 831 µs\n"
     ]
    },
    {
     "data": {
      "text/plain": [
       "3757272361782"
      ]
     },
     "execution_count": 3,
     "metadata": {},
     "output_type": "execute_result"
    }
   ],
   "source": [
    "%%time\n",
    "nodes[\"humn\"].val = 1j\n",
    "a, b = root.lhs.calc(), root.rhs.calc()\n",
    "if b.imag:\n",
    "    a, b = b, a\n",
    "int((b - a.real) / a.imag)"
   ]
  }
 ],
 "metadata": {
  "kernelspec": {
   "display_name": "Python 3 (ipykernel)",
   "language": "python",
   "name": "python3"
  },
  "language_info": {
   "codemirror_mode": {
    "name": "ipython",
    "version": 3
   },
   "file_extension": ".py",
   "mimetype": "text/x-python",
   "name": "python",
   "nbconvert_exporter": "python",
   "pygments_lexer": "ipython3",
   "version": "3.10.9"
  }
 },
 "nbformat": 4,
 "nbformat_minor": 5
}
