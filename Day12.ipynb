{
 "cells": [
  {
   "cell_type": "code",
   "execution_count": 1,
   "id": "7b603dab-48b0-45e9-bd3e-e1d3c6a2dfff",
   "metadata": {},
   "outputs": [],
   "source": [
    "import networkx as nx\n",
    "from string import ascii_lowercase\n",
    "\n",
    "G, special = nx.DiGraph(), {\"S\": 0, \"E\": 27}\n",
    "with open(\"Day12.txt\") as file:\n",
    "    for y, line in enumerate(file.read().splitlines()):\n",
    "        for x, height in enumerate(line):\n",
    "            if height in special:\n",
    "                G.add_node((x, y), height=special[height], name=height)\n",
    "                special[height] = (x, y)\n",
    "            else:\n",
    "                G.add_node((x, y), height=ascii_lowercase.index(height) + 1)\n",
    "                \n",
    "for (ox, oy), node in G.nodes.items():\n",
    "    for sx, sy in ((+0, +1), (+0, -1), (+1, +0), (-1, +0)):\n",
    "        dx, dy = ox + sx, oy + sy\n",
    "        if dest := G.nodes.get((dx, dy)):\n",
    "            node_height, dest_height = node[\"height\"], dest[\"height\"]\n",
    "            if node_height >= dest_height or node_height + 1 == dest_height:\n",
    "                G.add_edge((ox, oy), (dx, dy))"
   ]
  },
  {
   "cell_type": "code",
   "execution_count": 2,
   "id": "39463e78-c7f1-4060-896c-2c84e4968da2",
   "metadata": {},
   "outputs": [
    {
     "data": {
      "text/plain": [
       "{'S': (0, 20), 'E': (46, 20)}"
      ]
     },
     "execution_count": 2,
     "metadata": {},
     "output_type": "execute_result"
    }
   ],
   "source": [
    "special"
   ]
  },
  {
   "cell_type": "raw",
   "id": "0f89dff7-5c94-44a7-b049-a280e8f588f4",
   "metadata": {},
   "source": [
    "positions = {(x, y): (x, -y) for (x, y) in G.nodes}\n",
    "labels = {node: data[\"height\"] for node, data, in G.nodes.items()}\n",
    "nx.draw_networkx_labels(G, positions, labels, font_color=\"white\")\n",
    "nx.draw(G, positions, with_labels=False)"
   ]
  },
  {
   "cell_type": "code",
   "execution_count": 3,
   "id": "7dc74ce2-9e21-4046-ba44-892915b2dbaa",
   "metadata": {},
   "outputs": [
    {
     "data": {
      "text/plain": [
       "352"
      ]
     },
     "execution_count": 3,
     "metadata": {},
     "output_type": "execute_result"
    }
   ],
   "source": [
    "nx.shortest_path_length(G, special[\"S\"], special[\"E\"])"
   ]
  },
  {
   "cell_type": "code",
   "execution_count": 4,
   "id": "b916dc80-31e2-4746-9a0d-a836e83195ae",
   "metadata": {},
   "outputs": [
    {
     "data": {
      "text/plain": [
       "345"
      ]
     },
     "execution_count": 4,
     "metadata": {},
     "output_type": "execute_result"
    }
   ],
   "source": [
    "min(\n",
    "    nx.shortest_path_length(G, node, special[\"E\"]) \n",
    "    for node, data in G.nodes.items() \n",
    "    if data[\"height\"] == 1 \n",
    "    and nx.has_path(G, node, special[\"E\"])\n",
    ")"
   ]
  }
 ],
 "metadata": {
  "kernelspec": {
   "display_name": "Python 3 (ipykernel)",
   "language": "python",
   "name": "python3"
  },
  "language_info": {
   "codemirror_mode": {
    "name": "ipython",
    "version": 3
   },
   "file_extension": ".py",
   "mimetype": "text/x-python",
   "name": "python",
   "nbconvert_exporter": "python",
   "pygments_lexer": "ipython3",
   "version": "3.10.9"
  }
 },
 "nbformat": 4,
 "nbformat_minor": 5
}
