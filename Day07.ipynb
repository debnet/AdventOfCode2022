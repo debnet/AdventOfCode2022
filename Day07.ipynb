{
 "cells": [
  {
   "cell_type": "code",
   "execution_count": 1,
   "id": "ab4023ea-65eb-4a6b-bf88-f8c3685340e5",
   "metadata": {},
   "outputs": [],
   "source": [
    "filesystem = {}\n",
    "with open(\"Day07.txt\") as file:\n",
    "    pwd, current = None, None\n",
    "    for line in file:\n",
    "        line = line.strip()\n",
    "        if line.startswith(\"$ cd\"):\n",
    "            *_, path = line.split(\" \")\n",
    "            if path == \"/\":\n",
    "                pwd = []\n",
    "            elif path == \"..\":\n",
    "                pwd = pwd[:-1]\n",
    "            else:\n",
    "                pwd = pwd + [path]\n",
    "        elif line.startswith(\"$ ls\"):\n",
    "            current = filesystem\n",
    "            for path in pwd:\n",
    "                current = current[path]\n",
    "        else:\n",
    "            size, name = line.split(\" \")\n",
    "            if size == \"dir\":\n",
    "                current[name] = {}\n",
    "            else:\n",
    "                current[name] = int(size)"
   ]
  },
  {
   "cell_type": "code",
   "execution_count": 2,
   "id": "20c8c752-74d1-42b4-b55d-067e849b54c6",
   "metadata": {},
   "outputs": [],
   "source": [
    "def du(files):\n",
    "    size = 0\n",
    "    for data in files.values():\n",
    "        size += du(data) if isinstance(data, dict) else data\n",
    "    return size\n",
    "\n",
    "def walk(files, path=None):\n",
    "    path = path or []\n",
    "    for name, data in files.items():\n",
    "        if not isinstance(data, dict):\n",
    "            continue\n",
    "        yield from walk(data, path=path + [name])\n",
    "        yield name, \"/\".join(path), du(data)"
   ]
  },
  {
   "cell_type": "code",
   "execution_count": 3,
   "id": "a9b1bc32-2b96-4ab6-bebe-d8c086d3d76c",
   "metadata": {},
   "outputs": [
    {
     "data": {
      "text/plain": [
       "919137"
      ]
     },
     "execution_count": 3,
     "metadata": {},
     "output_type": "execute_result"
    }
   ],
   "source": [
    "sum(size for name, path, size in walk(filesystem) if size <= 100000)"
   ]
  },
  {
   "cell_type": "code",
   "execution_count": 4,
   "id": "fe842ced-4162-4bc2-9cc8-eaa72fefe257",
   "metadata": {},
   "outputs": [
    {
     "data": {
      "text/plain": [
       "2877389"
      ]
     },
     "execution_count": 4,
     "metadata": {},
     "output_type": "execute_result"
    }
   ],
   "source": [
    "free_space = 70000000 - du(filesystem)\n",
    "need_space = 30000000 - free_space\n",
    "for name, path, size in sorted(walk(filesystem), key=lambda e: e[2]):\n",
    "    if size < need_space:\n",
    "        continue\n",
    "    break\n",
    "size"
   ]
  }
 ],
 "metadata": {
  "kernelspec": {
   "display_name": "Python 3 (ipykernel)",
   "language": "python",
   "name": "python3"
  },
  "language_info": {
   "codemirror_mode": {
    "name": "ipython",
    "version": 3
   },
   "file_extension": ".py",
   "mimetype": "text/x-python",
   "name": "python",
   "nbconvert_exporter": "python",
   "pygments_lexer": "ipython3",
   "version": "3.10.7"
  }
 },
 "nbformat": 4,
 "nbformat_minor": 5
}
