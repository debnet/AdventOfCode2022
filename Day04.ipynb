{
 "cells": [
  {
   "cell_type": "code",
   "execution_count": 1,
   "id": "783c1579-3a45-43fa-9ff5-628a214c91ae",
   "metadata": {},
   "outputs": [],
   "source": [
    "from dataclasses import dataclass\n",
    "from __future__ import annotations\n",
    "\n",
    "@dataclass\n",
    "class Interval:\n",
    "    lower: int\n",
    "    upper: int\n",
    "    \n",
    "    @property\n",
    "    def values(self) -> frozenset[int]:\n",
    "        return frozenset(range(self.lower, self.upper + 1))\n",
    "    \n",
    "    def overlap(self, interval: Interval) -> frozenset[int]:\n",
    "        return self.values & interval.values\n",
    "    \n",
    "    def contained(self, interval: Interval) -> bool:\n",
    "        return self.overlap(interval) == self.values"
   ]
  },
  {
   "cell_type": "code",
   "execution_count": 2,
   "id": "c55531e1-3a30-45ba-875e-80a96d4c7d4b",
   "metadata": {},
   "outputs": [],
   "source": [
    "all_intervals = []\n",
    "with open(\"Day04.txt\") as file:\n",
    "    for line in file:\n",
    "        intervals = []\n",
    "        for interval in line.strip().split(\",\"):\n",
    "            intervals.append(Interval(*map(int, interval.split(\"-\"))))\n",
    "        all_intervals.append(intervals)"
   ]
  },
  {
   "cell_type": "code",
   "execution_count": 3,
   "id": "23bfc83f-326b-4c5a-adb0-1632c44409a3",
   "metadata": {},
   "outputs": [
    {
     "data": {
      "text/plain": [
       "538"
      ]
     },
     "execution_count": 3,
     "metadata": {},
     "output_type": "execute_result"
    }
   ],
   "source": [
    "sum(i1.contained(i2) or i2.contained(i1) for i1, i2 in all_intervals)"
   ]
  },
  {
   "cell_type": "code",
   "execution_count": 4,
   "id": "0ff270ab-3474-4f76-a090-83beb4bdfd8a",
   "metadata": {},
   "outputs": [
    {
     "data": {
      "text/plain": [
       "792"
      ]
     },
     "execution_count": 4,
     "metadata": {},
     "output_type": "execute_result"
    }
   ],
   "source": [
    "sum(bool(i1.overlap(i2)) for i1, i2 in all_intervals)"
   ]
  }
 ],
 "metadata": {
  "kernelspec": {
   "display_name": "Python 3 (ipykernel)",
   "language": "python",
   "name": "python3"
  },
  "language_info": {
   "codemirror_mode": {
    "name": "ipython",
    "version": 3
   },
   "file_extension": ".py",
   "mimetype": "text/x-python",
   "name": "python",
   "nbconvert_exporter": "python",
   "pygments_lexer": "ipython3",
   "version": "3.10.7"
  }
 },
 "nbformat": 4,
 "nbformat_minor": 5
}
