{
 "cells": [
  {
   "cell_type": "code",
   "execution_count": 1,
   "id": "4b05e974-9734-42e0-8ca5-df18c65c1b7a",
   "metadata": {},
   "outputs": [],
   "source": [
    "import ast\n",
    "\n",
    "with open(\"Day13.txt\") as file:\n",
    "    data = [ast.literal_eval(line) for line in file if line.strip()]\n",
    "group_data = [data[i:i+2] for i in range(0, len(data), 2)]"
   ]
  },
  {
   "cell_type": "code",
   "execution_count": 2,
   "id": "29ef6fce-5ad4-4178-a75a-7aee7ca506f5",
   "metadata": {},
   "outputs": [],
   "source": [
    "def check(left, right):\n",
    "    match left, right:\n",
    "        case int(), int():\n",
    "            return left - right\n",
    "        case list(), int():\n",
    "            right = [right]\n",
    "        case int(), list():\n",
    "            left = [left]\n",
    "    if not left or not right:\n",
    "        return len(left) - len(right)\n",
    "    if result := check(left[0], right[0]):\n",
    "        return result\n",
    "    return check(left[1:], right[1:])"
   ]
  },
  {
   "cell_type": "code",
   "execution_count": 3,
   "id": "ce561fe2-ef1f-4c85-a0b2-d54758e54454",
   "metadata": {},
   "outputs": [
    {
     "data": {
      "text/plain": [
       "6484"
      ]
     },
     "execution_count": 3,
     "metadata": {},
     "output_type": "execute_result"
    }
   ],
   "source": [
    "sum(i for i, (a, b) in enumerate(group_data, start=1) if check(a, b) <= 0)"
   ]
  },
  {
   "cell_type": "code",
   "execution_count": 4,
   "id": "c575dcb6-7d47-4eae-9cf2-11a0cdf6d344",
   "metadata": {},
   "outputs": [
    {
     "data": {
      "text/plain": [
       "19305"
      ]
     },
     "execution_count": 4,
     "metadata": {},
     "output_type": "execute_result"
    }
   ],
   "source": [
    "from functools import cmp_to_key\n",
    "\n",
    "new_data = data[:]\n",
    "new_data.extend([[[2]], [[6]]])\n",
    "new_data.sort(key=cmp_to_key(check))\n",
    "(new_data.index([[2]]) + 1) * (new_data.index([[6]]) + 1)"
   ]
  }
 ],
 "metadata": {
  "kernelspec": {
   "display_name": "Python 3 (ipykernel)",
   "language": "python",
   "name": "python3"
  },
  "language_info": {
   "codemirror_mode": {
    "name": "ipython",
    "version": 3
   },
   "file_extension": ".py",
   "mimetype": "text/x-python",
   "name": "python",
   "nbconvert_exporter": "python",
   "pygments_lexer": "ipython3",
   "version": "3.10.9"
  }
 },
 "nbformat": 4,
 "nbformat_minor": 5
}
