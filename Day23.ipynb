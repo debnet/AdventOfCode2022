{
 "cells": [
  {
   "cell_type": "code",
   "execution_count": 1,
   "id": "58ac244f-c440-4007-8a29-76f78e23b709",
   "metadata": {},
   "outputs": [],
   "source": [
    "from dataclasses import dataclass, field\n",
    "\n",
    "DIRECTIONS = {\n",
    "    \"N\": (0, -1),\n",
    "    \"S\": (0, +1),\n",
    "    \"W\": (-1, 0),\n",
    "    \"E\": (+1, 0),\n",
    "}\n",
    "CHECKS = {\n",
    "    \"N\": ((-1, -1), (+0, -1), (+1, -1)),\n",
    "    \"S\": ((-1, +1), (+0, +1), (+1, +1)),\n",
    "    \"W\": ((-1, -1), (-1, +0), (-1, +1)),\n",
    "    \"E\": ((+1, -1), (+1, +0), (+1, +1)),\n",
    "}\n",
    "\n",
    "@dataclass\n",
    "class Elf:\n",
    "    position: tuple[int, int]\n",
    "    directions: list[str] = field(init=False)\n",
    "    alone: bool = field(init=False, default=False)\n",
    "    \n",
    "    def __post_init__(self):\n",
    "        self.directions = list(\"NSWE\")\n",
    "    \n",
    "    def move(self, grid):\n",
    "        ox, oy = self.position\n",
    "        around = set((x, y) for y in range(oy - 1, oy + 2) for x in range(ox - 1, ox + 2) if (x, y) != (ox, oy))\n",
    "        self.alone = False\n",
    "        if not (around & grid):\n",
    "            self.alone = True\n",
    "            return\n",
    "        for direction in self.directions:\n",
    "            next_direction = False\n",
    "            for (cx, cy) in CHECKS[direction]:\n",
    "                dx, dy = ox + cx, oy + cy\n",
    "                if (dx, dy) in grid:\n",
    "                    next_direction = True\n",
    "                    break\n",
    "            if next_direction:\n",
    "                continue\n",
    "            sx, sy = DIRECTIONS[direction]\n",
    "            proposition = (ox + sx, oy + sy)\n",
    "            return proposition\n",
    "    \n",
    "    def update(self):\n",
    "        self.directions.append(self.directions.pop(0))"
   ]
  },
  {
   "cell_type": "code",
   "execution_count": 2,
   "id": "0503de20-d392-42b9-859e-99c58b40c978",
   "metadata": {},
   "outputs": [
    {
     "data": {
      "text/plain": [
       "2750"
      ]
     },
     "execution_count": 2,
     "metadata": {},
     "output_type": "execute_result"
    }
   ],
   "source": [
    "elves = []\n",
    "with open(\"Day23.txt\") as file:\n",
    "    for y, row in enumerate(file):\n",
    "        for x, col in enumerate(row.strip(\"\\n\")):\n",
    "            if col == \".\":\n",
    "                continue\n",
    "            elves.append(Elf((x, y)))\n",
    "len(elves)"
   ]
  },
  {
   "cell_type": "code",
   "execution_count": 3,
   "id": "a7e2d7fa-1683-4d21-98e8-f374e41353c7",
   "metadata": {},
   "outputs": [],
   "source": [
    "def run(elves):\n",
    "    grid = {elf.position for elf in elves}\n",
    "    propositions = {}\n",
    "    all_alone = True\n",
    "    for elf in elves:\n",
    "        if proposition := elf.move(grid):\n",
    "            propositions.setdefault(proposition, []).append(elf)\n",
    "        elf.update()\n",
    "        all_alone &= elf.alone\n",
    "    for position, moving_elves in propositions.items():\n",
    "        if len(moving_elves) > 1:\n",
    "            continue\n",
    "        elf = moving_elves[0]\n",
    "        elf.position = position\n",
    "    return all_alone"
   ]
  },
  {
   "cell_type": "raw",
   "id": "76d84786-8153-437d-b732-c392e6509b94",
   "metadata": {},
   "source": [
    "def show(elves):\n",
    "    minx, maxx, miny, maxy = inf, -inf, inf, -inf\n",
    "    grid = {}\n",
    "    for elf in elves:\n",
    "        x, y = elf.position\n",
    "        grid[x, y] = elf\n",
    "        minx, maxx = min(minx, x), max(maxx, x)\n",
    "        miny, maxy = min(miny, y), max(maxy, y)\n",
    "    for y in range(miny, maxy + 1):\n",
    "        for x in range(minx, maxx + 1):\n",
    "            if elf := grid.get((x, y)):\n",
    "                print(\"#\", end=\"\")\n",
    "            else:\n",
    "                print(\".\", end=\"\")\n",
    "        print()"
   ]
  },
  {
   "cell_type": "code",
   "execution_count": 4,
   "id": "21766bbf-7373-4c37-a5a7-18aecb880198",
   "metadata": {},
   "outputs": [
    {
     "name": "stdout",
     "output_type": "stream",
     "text": [
      "CPU times: user 159 ms, sys: 737 µs, total: 160 ms\n",
      "Wall time: 160 ms\n"
     ]
    },
    {
     "data": {
      "text/plain": [
       "4138"
      ]
     },
     "execution_count": 4,
     "metadata": {},
     "output_type": "execute_result"
    }
   ],
   "source": [
    "%%time\n",
    "from math import inf\n",
    "\n",
    "for turn in range(10):\n",
    "    run(elves)\n",
    "minx, maxx, miny, maxy = inf, -inf, inf, -inf\n",
    "for elf in elves:\n",
    "    x, y = elf.position\n",
    "    minx, maxx = min(minx, x), max(maxx, x)\n",
    "    miny, maxy = min(miny, y), max(maxy, y)\n",
    "((maxx - minx + 1) * (maxy - miny + 1)) - len(elves)"
   ]
  },
  {
   "cell_type": "code",
   "execution_count": 5,
   "id": "1be32c45-e7b1-4d3f-92a0-134104981956",
   "metadata": {},
   "outputs": [
    {
     "name": "stdout",
     "output_type": "stream",
     "text": [
      "CPU times: user 11.5 s, sys: 617 µs, total: 11.5 s\n",
      "Wall time: 11.6 s\n"
     ]
    },
    {
     "data": {
      "text/plain": [
       "1010"
      ]
     },
     "execution_count": 5,
     "metadata": {},
     "output_type": "execute_result"
    }
   ],
   "source": [
    "%%time\n",
    "turn = 10\n",
    "while not (all_alone := run(elves)):\n",
    "    turn += 1\n",
    "turn + 1"
   ]
  }
 ],
 "metadata": {
  "kernelspec": {
   "display_name": "Python 3 (ipykernel)",
   "language": "python",
   "name": "python3"
  },
  "language_info": {
   "codemirror_mode": {
    "name": "ipython",
    "version": 3
   },
   "file_extension": ".py",
   "mimetype": "text/x-python",
   "name": "python",
   "nbconvert_exporter": "python",
   "pygments_lexer": "ipython3",
   "version": "3.10.9"
  }
 },
 "nbformat": 4,
 "nbformat_minor": 5
}
