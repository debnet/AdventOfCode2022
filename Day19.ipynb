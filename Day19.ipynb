{
 "cells": [
  {
   "cell_type": "code",
   "execution_count": 1,
   "id": "4b9bda36-94cc-48c2-8f65-92c2619e3710",
   "metadata": {},
   "outputs": [],
   "source": [
    "import re\n",
    "from dataclasses import dataclass, field\n",
    "from functools import cache\n",
    "from typing import NamedTuple\n",
    "from __future__ import annotations\n",
    "\n",
    "\n",
    "class Resource(NamedTuple):\n",
    "    geode: int\n",
    "    obsidian: int\n",
    "    clay: int\n",
    "    ore: int\n",
    "    \n",
    "    @cache\n",
    "    def __gt__(self, resource: Resource):\n",
    "        return all(r1 > r2 for r1, r2 in zip(self, resource))\n",
    "    \n",
    "    @cache\n",
    "    def __lt__(self, resource: Resource):\n",
    "        return any(r1 < r2 for r1, r2 in zip(self, resource))\n",
    "    \n",
    "    @cache\n",
    "    def __ge__(self, resource: Resource):\n",
    "        return all(r1 >= r2 for r1, r2 in zip(self, resource))\n",
    "    \n",
    "    @cache\n",
    "    def __le__(self, resource: Resource):\n",
    "        return any(r1 <= r2 for r1, r2 in zip(self, resource))\n",
    "    \n",
    "    @cache\n",
    "    def __add__(self, resource: Resource):\n",
    "        return Resource(*(r1 + r2 for r1, r2 in zip(self, resource)))\n",
    "    \n",
    "    @cache\n",
    "    def __sub__(self, resource: Resource):\n",
    "        return Resource(*(r1 - r2 for r1, r2 in zip(self, resource)))\n",
    "\n",
    "@dataclass\n",
    "class Robot:\n",
    "    name: str\n",
    "    costs: Resource\n",
    "    prods: Resource = field(repr=False)\n",
    "\n",
    "@dataclass\n",
    "class Blueprint:\n",
    "    number: int\n",
    "    robots: tuple[Robot, ...]\n",
    "\n",
    "blueprints = {}\n",
    "with open(\"Day19.txt\") as file:\n",
    "    for line in file:\n",
    "        i, a, b, c, d, e, f = map(int, re.findall(r\"\\d+\", line))\n",
    "        blueprint = Blueprint(i, (\n",
    "            Robot(\"Geode\", Resource(0, f, 0, e), Resource(1, 0, 0, 0)), \n",
    "            Robot(\"Obsidian\", Resource(0, 0, d, c), Resource(0, 1, 0, 0)), \n",
    "            Robot(\"Clay\", Resource(0, 0, 0, b), Resource(0, 0, 1, 0)), \n",
    "            Robot(\"Ore\", Resource(0, 0, 0, a), Resource(0, 0, 0, 1)), \n",
    "            Robot(\"None\", Resource(0, 0, 0, 0), Resource(0, 0, 0, 0))\n",
    "        ))\n",
    "        blueprints[i] = blueprint"
   ]
  },
  {
   "cell_type": "code",
   "execution_count": 2,
   "id": "2a80485e-645b-4747-9205-a41e5459a89d",
   "metadata": {},
   "outputs": [],
   "source": [
    "def run(blueprint, time, sort_key=None, threshold=100):\n",
    "    sort_key = sort_key or (lambda e: tuple(zip(*e)))\n",
    "    todo = [(Resource(0, 0, 0, 0), Resource(0, 0, 0, 1))]\n",
    "    for minute in range(time):\n",
    "        temp = []\n",
    "        for having, making in todo:\n",
    "            for robot in blueprint.robots:\n",
    "                if having < robot.costs:\n",
    "                    continue\n",
    "                have, make = (having + making - robot.costs), (making + robot.prods)\n",
    "                temp.append((have, make))\n",
    "        todo = sorted(temp, reverse=True, key=sort_key)[:threshold]\n",
    "    return max(having.geode for having, making in todo)"
   ]
  },
  {
   "cell_type": "code",
   "execution_count": 3,
   "id": "2976a484-c6f5-4895-b8f2-e6b7018b635e",
   "metadata": {},
   "outputs": [
    {
     "name": "stdout",
     "output_type": "stream",
     "text": [
      "CPU times: user 1.29 s, sys: 13.2 ms, total: 1.3 s\n",
      "Wall time: 1.31 s\n"
     ]
    },
    {
     "data": {
      "text/plain": [
       "1650"
      ]
     },
     "execution_count": 3,
     "metadata": {},
     "output_type": "execute_result"
    }
   ],
   "source": [
    "%%time\n",
    "sum(run(blueprint, 24, threshold=200) * i for i, blueprint in blueprints.items())"
   ]
  },
  {
   "cell_type": "code",
   "execution_count": 4,
   "id": "1b5fa50f-8985-4bd7-a8d4-a9e196aec74e",
   "metadata": {},
   "outputs": [
    {
     "name": "stdout",
     "output_type": "stream",
     "text": [
      "CPU times: user 68.8 ms, sys: 3.02 ms, total: 71.8 ms\n",
      "Wall time: 71.2 ms\n"
     ]
    },
    {
     "data": {
      "text/plain": [
       "5824"
      ]
     },
     "execution_count": 4,
     "metadata": {},
     "output_type": "execute_result"
    }
   ],
   "source": [
    "%%time\n",
    "from math import prod\n",
    "sort_key = lambda e: tuple(e[1])\n",
    "prod(run(blueprint, 32, sort_key=sort_key) for i, blueprint in blueprints.items() if i < 4)"
   ]
  }
 ],
 "metadata": {
  "kernelspec": {
   "display_name": "Python 3 (ipykernel)",
   "language": "python",
   "name": "python3"
  },
  "language_info": {
   "codemirror_mode": {
    "name": "ipython",
    "version": 3
   },
   "file_extension": ".py",
   "mimetype": "text/x-python",
   "name": "python",
   "nbconvert_exporter": "python",
   "pygments_lexer": "ipython3",
   "version": "3.10.9"
  }
 },
 "nbformat": 4,
 "nbformat_minor": 5
}
