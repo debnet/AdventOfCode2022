{
 "cells": [
  {
   "cell_type": "code",
   "execution_count": 1,
   "id": "89f6c5d0-ce34-4f5d-b841-987e82430f3d",
   "metadata": {},
   "outputs": [],
   "source": [
    "from dataclasses import dataclass, field\n",
    "from functools import lru_cache\n",
    "from typing import NamedTuple\n",
    "\n",
    "@lru_cache\n",
    "def manhattan(a, b):\n",
    "    return sum(abs(ai - bi) for ai, bi in zip(a, b))\n",
    "\n",
    "class Point(NamedTuple):\n",
    "    x: int\n",
    "    y: int\n",
    "\n",
    "@dataclass\n",
    "class Sensor:\n",
    "    coords: Point\n",
    "    beacon: Point\n",
    "    distance: int = field(init=False)\n",
    "    \n",
    "    def __post_init__(self):\n",
    "        self.distance = manhattan(self.coords, self.beacon)"
   ]
  },
  {
   "cell_type": "code",
   "execution_count": 2,
   "id": "e843fe0d-e6ae-40f3-a66b-6d1b37a92b23",
   "metadata": {},
   "outputs": [],
   "source": [
    "import re\n",
    "\n",
    "regex_sensor = re.compile(r\"(-?\\d+)\")\n",
    "\n",
    "sensors = []\n",
    "with open(\"Day15.txt\") as file:\n",
    "    for line in file:\n",
    "        sx, sy, bx, by = map(int, regex_sensor.findall(line))\n",
    "        sensors.append(Sensor(Point(sx, sy), Point(bx, by)))"
   ]
  },
  {
   "cell_type": "code",
   "execution_count": 3,
   "id": "a692174b-3746-4908-8eee-8e59714e90ab",
   "metadata": {},
   "outputs": [
    {
     "name": "stdout",
     "output_type": "stream",
     "text": [
      "CPU times: user 271 ms, sys: 414 ms, total: 686 ms\n",
      "Wall time: 129 ms\n"
     ]
    },
    {
     "data": {
      "text/plain": [
       "5144286"
      ]
     },
     "execution_count": 3,
     "metadata": {},
     "output_type": "execute_result"
    }
   ],
   "source": [
    "%%time\n",
    "from shapely import LineString, union_all\n",
    "\n",
    "limit = 2_000_000\n",
    "lines = []\n",
    "for sensor in sensors:\n",
    "    if (diff := abs(sensor.coords.y - limit)) <= sensor.distance:\n",
    "        delta = abs(sensor.distance - diff)\n",
    "        line = LineString(((sensor.coords.x - delta, 0), (sensor.coords.x + delta, 0)))\n",
    "        lines.append(line)\n",
    "int(union_all(lines).length)"
   ]
  },
  {
   "cell_type": "code",
   "execution_count": 4,
   "id": "795263ac-331a-42fa-8f66-c24628a1efd4",
   "metadata": {},
   "outputs": [
    {
     "name": "stdout",
     "output_type": "stream",
     "text": [
      "CPU times: user 9.09 ms, sys: 0 ns, total: 9.09 ms\n",
      "Wall time: 8.07 ms\n"
     ]
    },
    {
     "data": {
      "text/plain": [
       "10229191267339"
      ]
     },
     "execution_count": 4,
     "metadata": {},
     "output_type": "execute_result"
    }
   ],
   "source": [
    "%%time\n",
    "from functools import reduce\n",
    "from shapely import Polygon, difference\n",
    "\n",
    "limit = 4_000_000\n",
    "area = Polygon(((0, 0), (0, limit), (limit, limit), (limit, 0)))\n",
    "zones = (\n",
    "    Polygon((\n",
    "        (sensor.coords.x + sensor.distance, sensor.coords.y),\n",
    "        (sensor.coords.x, sensor.coords.y + sensor.distance),\n",
    "        (sensor.coords.x - sensor.distance, sensor.coords.y),\n",
    "        (sensor.coords.x, sensor.coords.y - sensor.distance),\n",
    "    )) for sensor in sensors\n",
    ")\n",
    "beacon = reduce(difference, zones, area).centroid\n",
    "int(beacon.x) * limit + int(beacon.y)"
   ]
  }
 ],
 "metadata": {
  "kernelspec": {
   "display_name": "Python 3 (ipykernel)",
   "language": "python",
   "name": "python3"
  },
  "language_info": {
   "codemirror_mode": {
    "name": "ipython",
    "version": 3
   },
   "file_extension": ".py",
   "mimetype": "text/x-python",
   "name": "python",
   "nbconvert_exporter": "python",
   "pygments_lexer": "ipython3",
   "version": "3.10.9"
  }
 },
 "nbformat": 4,
 "nbformat_minor": 5
}
