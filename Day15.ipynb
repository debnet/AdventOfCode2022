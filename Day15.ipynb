{
 "cells": [
  {
   "cell_type": "code",
   "execution_count": 1,
   "id": "89f6c5d0-ce34-4f5d-b841-987e82430f3d",
   "metadata": {},
   "outputs": [],
   "source": [
    "from dataclasses import dataclass, field\n",
    "\n",
    "def manhattan(a, b):\n",
    "    return sum(abs(ai - bi) for ai, bi in zip(a, b))\n",
    "\n",
    "@dataclass\n",
    "class Sensor:\n",
    "    coords: tuple[int, int]\n",
    "    beacon: tuple[int, int]\n",
    "    distance: int = field(init=False)\n",
    "    \n",
    "    def __post_init__(self):\n",
    "        self.distance = manhattan(self.coords, self.beacon)\n",
    "        \n",
    "    def is_covered(self, p: tuple[int, int]) -> bool:\n",
    "        return manhattan(self.coords, p) <= self.distance"
   ]
  },
  {
   "cell_type": "code",
   "execution_count": 2,
   "id": "e843fe0d-e6ae-40f3-a66b-6d1b37a92b23",
   "metadata": {},
   "outputs": [],
   "source": [
    "import re\n",
    "\n",
    "regex_sensor = re.compile(r\"Sensor at x=(?P<sx>-?\\d+), y=(?P<sy>-?\\d+): closest beacon is at x=(?P<bx>-?\\d+), y=(?P<by>-?\\d+)\")\n",
    "\n",
    "sensors = []\n",
    "with open(\"Day15.txt\") as file:\n",
    "    for line in file:\n",
    "        if match := regex_sensor.match(line):\n",
    "            sx, sy, bx, by = map(int, match.groups())\n",
    "            sensors.append(Sensor((sx, sy), (bx, by)))"
   ]
  },
  {
   "cell_type": "code",
   "execution_count": 3,
   "id": "a1c8be2d-3e5f-44dc-a330-055fd995411b",
   "metadata": {},
   "outputs": [
    {
     "name": "stdout",
     "output_type": "stream",
     "text": [
      "CPU times: user 2.45 s, sys: 544 ms, total: 2.99 s\n",
      "Wall time: 3.01 s\n"
     ]
    },
    {
     "data": {
      "text/plain": [
       "5144286"
      ]
     },
     "execution_count": 3,
     "metadata": {},
     "output_type": "execute_result"
    }
   ],
   "source": [
    "%%time\n",
    "empty, covered, ty = set(), set(), 2_000_000\n",
    "for sensor in sensors:\n",
    "    covered.add(sensor.coords)\n",
    "    covered.add(sensor.beacon)\n",
    "    (sx, sy), d = sensor.coords, sensor.distance\n",
    "    if (delta := d - abs(sy - ty)) >= 0:\n",
    "        for x in range(sx - delta, sx + delta + 1):\n",
    "            empty.add((x, ty))\n",
    "len(empty - covered)"
   ]
  },
  {
   "cell_type": "code",
   "execution_count": 4,
   "id": "679bacd4-a049-4ab0-bcdc-9cd1eb948528",
   "metadata": {},
   "outputs": [
    {
     "name": "stdout",
     "output_type": "stream",
     "text": [
      "CPU times: user 25.6 s, sys: 1.85 ms, total: 25.6 s\n",
      "Wall time: 25.7 s\n"
     ]
    },
    {
     "data": {
      "text/plain": [
       "10229191267339"
      ]
     },
     "execution_count": 4,
     "metadata": {},
     "output_type": "execute_result"
    }
   ],
   "source": [
    "%%time\n",
    "def coverage(y):\n",
    "    for sensor in sensors:\n",
    "        (sx, sy), d = sensor.coords, sensor.distance\n",
    "        if (delta_y := abs(sy - y)) > d:\n",
    "            continue\n",
    "        delta_x1, delta_x2 = sx - (d - delta_y), sx + (d - delta_y)\n",
    "        yield delta_x1, delta_x2\n",
    "\n",
    "def solver(limit=4_000_000):\n",
    "    for y in range(limit):\n",
    "        max_x = 0\n",
    "        for x1, x2 in sorted(coverage(y)):\n",
    "            if x1 > max_x + 1:\n",
    "                return (x1 - 1) * limit + y\n",
    "            max_x = max(max_x, x2)\n",
    "            if max_x > limit:\n",
    "                break\n",
    "\n",
    "solver()"
   ]
  }
 ],
 "metadata": {
  "kernelspec": {
   "display_name": "Python 3 (ipykernel)",
   "language": "python",
   "name": "python3"
  },
  "language_info": {
   "codemirror_mode": {
    "name": "ipython",
    "version": 3
   },
   "file_extension": ".py",
   "mimetype": "text/x-python",
   "name": "python",
   "nbconvert_exporter": "python",
   "pygments_lexer": "ipython3",
   "version": "3.10.9"
  }
 },
 "nbformat": 4,
 "nbformat_minor": 5
}
