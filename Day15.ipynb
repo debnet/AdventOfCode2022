{
 "cells": [
  {
   "cell_type": "code",
   "execution_count": 1,
   "id": "89f6c5d0-ce34-4f5d-b841-987e82430f3d",
   "metadata": {},
   "outputs": [],
   "source": [
    "from dataclasses import dataclass, field\n",
    "from functools import lru_cache\n",
    "from shapely import LineString, MultiPolygon, Polygon, difference\n",
    "from typing import NamedTuple\n",
    "\n",
    "@lru_cache\n",
    "def manhattan(a, b):\n",
    "    return sum(abs(ai - bi) for ai, bi in zip(a, b))\n",
    "\n",
    "class Point(NamedTuple):\n",
    "    x: int\n",
    "    y: int\n",
    "\n",
    "@dataclass\n",
    "class Sensor:\n",
    "    coords: Point\n",
    "    beacon: Point\n",
    "    distance: int = field(init=False)\n",
    "    \n",
    "    def __post_init__(self):\n",
    "        self.distance = manhattan(self.coords, self.beacon)\n",
    "        \n",
    "    @property\n",
    "    def zone(self):\n",
    "        return Polygon((\n",
    "            (self.coords.x, self.coords.y - self.distance),\n",
    "            (self.coords.x + self.distance, self.coords.y),\n",
    "            (self.coords.x, self.coords.y + self.distance),\n",
    "            (self.coords.x - self.distance, self.coords.y),\n",
    "        ))"
   ]
  },
  {
   "cell_type": "code",
   "execution_count": 2,
   "id": "e843fe0d-e6ae-40f3-a66b-6d1b37a92b23",
   "metadata": {},
   "outputs": [],
   "source": [
    "import math\n",
    "import re\n",
    "\n",
    "regex_sensor = re.compile(r\"(-?\\d+)\")\n",
    "\n",
    "sensors = []\n",
    "with open(\"Day15.txt\") as file:\n",
    "    for line in file:\n",
    "        sx, sy, bx, by = map(int, regex_sensor.findall(line))\n",
    "        sensors.append(Sensor(Point(sx, sy), Point(bx, by)))"
   ]
  },
  {
   "cell_type": "code",
   "execution_count": 3,
   "id": "a692174b-3746-4908-8eee-8e59714e90ab",
   "metadata": {},
   "outputs": [
    {
     "name": "stdout",
     "output_type": "stream",
     "text": [
      "CPU times: user 5.94 ms, sys: 1.57 ms, total: 7.51 ms\n",
      "Wall time: 6.31 ms\n"
     ]
    },
    {
     "data": {
      "text/plain": [
       "5144286"
      ]
     },
     "execution_count": 3,
     "metadata": {},
     "output_type": "execute_result"
    }
   ],
   "source": [
    "%%time\n",
    "limit = 2_000_000\n",
    "zones = [sensor.zone for sensor in sensors]\n",
    "area = MultiPolygon(zones).buffer(0)\n",
    "xs, ys = area.exterior.coords.xy\n",
    "line = LineString(((min(xs), limit), (max(xs), limit)))\n",
    "int(area.intersection(line).length)"
   ]
  },
  {
   "cell_type": "code",
   "execution_count": 4,
   "id": "795263ac-331a-42fa-8f66-c24628a1efd4",
   "metadata": {},
   "outputs": [
    {
     "name": "stdout",
     "output_type": "stream",
     "text": [
      "CPU times: user 6.68 ms, sys: 306 µs, total: 6.99 ms\n",
      "Wall time: 5.5 ms\n"
     ]
    },
    {
     "data": {
      "text/plain": [
       "10229191267339"
      ]
     },
     "execution_count": 4,
     "metadata": {},
     "output_type": "execute_result"
    }
   ],
   "source": [
    "%%time\n",
    "from functools import reduce\n",
    "from shapely import Polygon, difference\n",
    "\n",
    "limit = 4_000_000\n",
    "area = Polygon(((0, 0), (0, limit), (limit, limit), (limit, 0)))\n",
    "beacon = reduce(difference, zones, area).centroid\n",
    "int(beacon.x * limit + beacon.y)"
   ]
  }
 ],
 "metadata": {
  "kernelspec": {
   "display_name": "Python 3 (ipykernel)",
   "language": "python",
   "name": "python3"
  },
  "language_info": {
   "codemirror_mode": {
    "name": "ipython",
    "version": 3
   },
   "file_extension": ".py",
   "mimetype": "text/x-python",
   "name": "python",
   "nbconvert_exporter": "python",
   "pygments_lexer": "ipython3",
   "version": "3.10.9"
  }
 },
 "nbformat": 4,
 "nbformat_minor": 5
}
