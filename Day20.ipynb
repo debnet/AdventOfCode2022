{
 "cells": [
  {
   "cell_type": "code",
   "execution_count": 1,
   "id": "6b19e195-8afe-4d74-9a02-1accd0f12325",
   "metadata": {},
   "outputs": [],
   "source": [
    "with open(\"Day20.txt\") as file:\n",
    "    data = list(map(int, file))"
   ]
  },
  {
   "cell_type": "code",
   "execution_count": 2,
   "id": "fab43890-62b9-4892-9a40-b8f8ecf981e6",
   "metadata": {},
   "outputs": [],
   "source": [
    "from collections import deque\n",
    "\n",
    "def solve(data, mixes=1):\n",
    "    size = len(data)\n",
    "    queue, index = deque(data), deque(range(size))\n",
    "    rotate = 0\n",
    "    for mix in range(mixes):\n",
    "        for i in range(size):\n",
    "            pos = index.index(i)\n",
    "            for q in (queue, index):\n",
    "                q.rotate(-pos)\n",
    "                temp = q.popleft()\n",
    "                if q == queue:\n",
    "                    rotate = temp\n",
    "                q.rotate(-rotate)\n",
    "                q.appendleft(temp)\n",
    "    zero = queue.index(0)\n",
    "    return sum(queue[(zero + 1000 * n) % size] for n in range(1, 4))"
   ]
  },
  {
   "cell_type": "code",
   "execution_count": 3,
   "id": "991fbcbf-3be1-48cb-833e-931cedb37a56",
   "metadata": {},
   "outputs": [
    {
     "name": "stdout",
     "output_type": "stream",
     "text": [
      "CPU times: user 160 ms, sys: 1.82 ms, total: 162 ms\n",
      "Wall time: 162 ms\n"
     ]
    },
    {
     "data": {
      "text/plain": [
       "13967"
      ]
     },
     "execution_count": 3,
     "metadata": {},
     "output_type": "execute_result"
    }
   ],
   "source": [
    "%%time\n",
    "solve(data)"
   ]
  },
  {
   "cell_type": "code",
   "execution_count": 4,
   "id": "82fc9b58-7034-4100-b659-a69813d84185",
   "metadata": {},
   "outputs": [
    {
     "name": "stdout",
     "output_type": "stream",
     "text": [
      "CPU times: user 1.47 s, sys: 1.85 ms, total: 1.47 s\n",
      "Wall time: 1.48 s\n"
     ]
    },
    {
     "data": {
      "text/plain": [
       "1790365671518"
      ]
     },
     "execution_count": 4,
     "metadata": {},
     "output_type": "execute_result"
    }
   ],
   "source": [
    "%%time\n",
    "new_data = [n * 811589153 for n in data]\n",
    "solve(new_data, mixes=10)"
   ]
  }
 ],
 "metadata": {
  "kernelspec": {
   "display_name": "Python 3 (ipykernel)",
   "language": "python",
   "name": "python3"
  },
  "language_info": {
   "codemirror_mode": {
    "name": "ipython",
    "version": 3
   },
   "file_extension": ".py",
   "mimetype": "text/x-python",
   "name": "python",
   "nbconvert_exporter": "python",
   "pygments_lexer": "ipython3",
   "version": "3.10.9"
  }
 },
 "nbformat": 4,
 "nbformat_minor": 5
}
