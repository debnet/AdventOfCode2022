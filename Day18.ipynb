{
 "cells": [
  {
   "cell_type": "code",
   "execution_count": 1,
   "id": "4fc97a67-5c4e-4417-a6cf-650c09459541",
   "metadata": {},
   "outputs": [],
   "source": [
    "with open(\"Day18.txt\") as file:\n",
    "    cubes = {tuple(map(int, line.split(\",\"))) for line in file}"
   ]
  },
  {
   "cell_type": "code",
   "execution_count": 2,
   "id": "13b3638c-bedf-45b5-95a7-46e37a4ab1b6",
   "metadata": {},
   "outputs": [
    {
     "name": "stdout",
     "output_type": "stream",
     "text": [
      "CPU times: user 3.2 ms, sys: 0 ns, total: 3.2 ms\n",
      "Wall time: 3.23 ms\n"
     ]
    },
    {
     "data": {
      "text/plain": [
       "3494"
      ]
     },
     "execution_count": 2,
     "metadata": {},
     "output_type": "execute_result"
    }
   ],
   "source": [
    "%%time\n",
    "neighbours = lambda x, y, z : {(x + 1, y, z), (x - 1, y, z), (x, y + 1, z), (x, y - 1, z), (x, y, z + 1), (x, y, z - 1)}\n",
    "sum((neighbour not in cubes) for cube in cubes for neighbour in neighbours(*cube))"
   ]
  },
  {
   "cell_type": "code",
   "execution_count": 3,
   "id": "a0b26b1a-c802-4df5-8f90-9ec0f0e47cc8",
   "metadata": {},
   "outputs": [
    {
     "name": "stdout",
     "output_type": "stream",
     "text": [
      "CPU times: user 165 ms, sys: 5.06 ms, total: 170 ms\n",
      "Wall time: 170 ms\n"
     ]
    },
    {
     "data": {
      "text/plain": [
       "2062"
      ]
     },
     "execution_count": 3,
     "metadata": {},
     "output_type": "execute_result"
    }
   ],
   "source": [
    "%%time\n",
    "seen, todo = set(), [(-1, -1, -1)]\n",
    "while todo:\n",
    "    cube = todo.pop()\n",
    "    todo.extend([cube for cube in (neighbours(*cube) - cubes - seen) if all(-1 <= coord <= 25 for coord in cube)])\n",
    "    seen.add(cube)\n",
    "sum((neighbour in seen) for cube in cubes for neighbour in neighbours(*cube))"
   ]
  }
 ],
 "metadata": {
  "kernelspec": {
   "display_name": "Python 3 (ipykernel)",
   "language": "python",
   "name": "python3"
  },
  "language_info": {
   "codemirror_mode": {
    "name": "ipython",
    "version": 3
   },
   "file_extension": ".py",
   "mimetype": "text/x-python",
   "name": "python",
   "nbconvert_exporter": "python",
   "pygments_lexer": "ipython3",
   "version": "3.10.9"
  }
 },
 "nbformat": 4,
 "nbformat_minor": 5
}
