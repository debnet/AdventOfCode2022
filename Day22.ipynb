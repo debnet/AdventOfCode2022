{
 "cells": [
  {
   "cell_type": "code",
   "execution_count": 1,
   "id": "d1e37c96-d308-42f6-aeed-67600f0c8979",
   "metadata": {},
   "outputs": [],
   "source": [
    "import re\n",
    "from itertools import zip_longest\n",
    "\n",
    "faces = ((+1, 0), (0, +1), (-1, 0), (0, -1))\n",
    "grid, start, face, path = {}, None, 0, []\n",
    "max_x, max_y = 0, 0\n",
    "with open(\"Day22.txt\") as file:\n",
    "    parse_path = False\n",
    "    for y, row in enumerate(file, start=1):\n",
    "        row = row.strip(\"\\n\")\n",
    "        if not row:\n",
    "            parse_path = True\n",
    "            continue\n",
    "        if not parse_path:\n",
    "            for x, col in enumerate(row, start=1):\n",
    "                if not col.strip():\n",
    "                    continue\n",
    "                if not grid:\n",
    "                    start = x, y\n",
    "                grid[x, y] = col\n",
    "                max_x, max_y = max(max_x, x), max(max_y, y)\n",
    "        n, l = map(int, re.findall(\"\\d+\", row)), re.findall(\"[RL]\", row)\n",
    "        path = [v for t in zip_longest(n, l) for v in t if v]"
   ]
  },
  {
   "cell_type": "code",
   "execution_count": 2,
   "id": "65cada1d-060c-4fc2-ae5d-d122d99d5605",
   "metadata": {},
   "outputs": [],
   "source": [
    "def through(face, x, y):\n",
    "    match face:\n",
    "        case 0:\n",
    "            for x in range(1, max_x + 1):\n",
    "                if cell := grid.get((x, y)):\n",
    "                    break\n",
    "        case 1:\n",
    "            for y in range(1, max_y + 1):\n",
    "                if cell := grid.get((x, y)):\n",
    "                    break\n",
    "        case 2:\n",
    "            for x in range(max_x, 0, -1):\n",
    "                if cell := grid.get((x, y)):\n",
    "                    break\n",
    "        case 3:\n",
    "            for y in range(max_y, 0, -1):\n",
    "                if cell := grid.get((x, y)):\n",
    "                    break\n",
    "    return cell, face, x, y"
   ]
  },
  {
   "cell_type": "code",
   "execution_count": 3,
   "id": "a7fac0d3-f3e4-4e02-a496-15e017c7a01c",
   "metadata": {},
   "outputs": [],
   "source": [
    "def solve(func=None):\n",
    "    face = 0\n",
    "    px, py = start\n",
    "    for p in path:\n",
    "        match p:\n",
    "            case int():\n",
    "                for i in range(p):\n",
    "                    sx, sy = faces[face]\n",
    "                    dx, dy = px + sx, py + sy\n",
    "                    cell = grid.get((dx, dy))\n",
    "                    prev_face = face\n",
    "                    if cell is None:\n",
    "                        cell, face, dx, dy = func(face, dx, dy)\n",
    "                    if cell == \"#\":\n",
    "                        face = prev_face\n",
    "                        break\n",
    "                    elif cell == \".\":\n",
    "                        px, py = dx, dy\n",
    "            case \"R\":\n",
    "                face = (face + 1) % 4\n",
    "            case \"L\":\n",
    "                face = (face - 1) % 4\n",
    "    return 1000 * py + 4 * px + face"
   ]
  },
  {
   "cell_type": "code",
   "execution_count": 4,
   "id": "47dbb159-ed80-43cf-acfe-2ffaa6d8873f",
   "metadata": {},
   "outputs": [
    {
     "data": {
      "text/plain": [
       "66292"
      ]
     },
     "execution_count": 4,
     "metadata": {},
     "output_type": "execute_result"
    }
   ],
   "source": [
    "solve(func=through)"
   ]
  },
  {
   "cell_type": "code",
   "execution_count": 5,
   "id": "b29e2b83-a891-40ea-b513-80865aa07d70",
   "metadata": {},
   "outputs": [],
   "source": [
    "def through_cube(face, x, y):\n",
    "    match face:\n",
    "        case 0:\n",
    "            if x > 150 and 0 < y <= 50: \n",
    "                face, (x, y) = 2, (100, 151 - y)\n",
    "            elif x > 100 and 50 < y <= 100:\n",
    "                face, (x, y) = 3, (y + 50, 50)\n",
    "            elif x > 100 and 100 < y <= 150:\n",
    "                face, (x, y) = 2, (150, abs(y - 151))\n",
    "            elif x > 50 and 150 < y <= 200:\n",
    "                face, (x, y) = 3, (y - 100, 150)\n",
    "        case 1:\n",
    "            if 100 < x <= 150 and y > 50:\n",
    "                face, (x, y) = 2, (100, x - 50)\n",
    "            elif 50 < x <= 100 and y > 150:\n",
    "                face, (x, y) = 2, (50, x + 100)\n",
    "            elif 0 < x <= 50 and y > 200:\n",
    "                face, (x, y) = 1, (x + 100, 1)\n",
    "        case 2:\n",
    "            if x <= 50 and 0 < y <= 50:\n",
    "                face, (x, y) = 0, (1, 151 - y)\n",
    "            elif x <= 50 and 50 < y <= 100:\n",
    "                face, (x, y) = 1, (y - 50, 101)\n",
    "            elif x <= 0 and 100 < y <= 150:\n",
    "                face, (x, y) = 0, (51, abs(y - 151))\n",
    "            elif x <= 0 and 150 < y <= 200:\n",
    "                face, (x, y) = 1, (y - 100, 1)\n",
    "        case 3:\n",
    "            if 50 < x <= 100 and y <= 0:\n",
    "                face, (x, y) = 0, (1, x + 100)\n",
    "            elif 100 < x <= 150 and y <= 0:\n",
    "                face, (x, y) = 3, (x - 100, 200)\n",
    "            elif 0 < x <= 50 and y <= 100:\n",
    "                face, (x, y) = 0, (51, x + 50)\n",
    "    return grid[x, y], face, x, y"
   ]
  },
  {
   "cell_type": "code",
   "execution_count": 6,
   "id": "74f7d43f-8342-414d-bfd4-522053e4760f",
   "metadata": {},
   "outputs": [
    {
     "data": {
      "text/plain": [
       "127012"
      ]
     },
     "execution_count": 6,
     "metadata": {},
     "output_type": "execute_result"
    }
   ],
   "source": [
    "solve(func=through_cube)"
   ]
  }
 ],
 "metadata": {
  "kernelspec": {
   "display_name": "Python 3 (ipykernel)",
   "language": "python",
   "name": "python3"
  },
  "language_info": {
   "codemirror_mode": {
    "name": "ipython",
    "version": 3
   },
   "file_extension": ".py",
   "mimetype": "text/x-python",
   "name": "python",
   "nbconvert_exporter": "python",
   "pygments_lexer": "ipython3",
   "version": "3.10.9"
  }
 },
 "nbformat": 4,
 "nbformat_minor": 5
}
