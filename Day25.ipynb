{
 "cells": [
  {
   "cell_type": "code",
   "execution_count": 1,
   "id": "2581ccf3-fa37-464e-8a43-5ea643a96856",
   "metadata": {},
   "outputs": [],
   "source": [
    "def snafu_to_decimal(string):\n",
    "    digits = {\"2\": 2, \"1\": 1, \"0\": 0, \"-\": -1, \"=\": -2}\n",
    "    number = 0\n",
    "    for p, i in enumerate(string.strip()[::-1]):\n",
    "        number += digits[i] * pow(5, p)\n",
    "    return number\n",
    "\n",
    "def decimal_to_snafu(number):\n",
    "    digits = {0: \"0\", 1: \"1\", 2: \"2\", 3: \"=\", 4: \"-\"}\n",
    "    value = \"\"\n",
    "    while number:\n",
    "        number, remain = divmod(number, 5)\n",
    "        value = digits[remain] + value\n",
    "        number += 1 if remain >= 3 else 0\n",
    "    return value"
   ]
  },
  {
   "cell_type": "code",
   "execution_count": 2,
   "id": "ba4371bc-c81d-4775-8c0a-76da48360400",
   "metadata": {},
   "outputs": [
    {
     "name": "stdout",
     "output_type": "stream",
     "text": [
      "2=10---0===-1--01-20\n"
     ]
    }
   ],
   "source": [
    "with open(\"Day25.txt\") as file:\n",
    "    value = sum(snafu_to_decimal(line) for line in file)\n",
    "print(decimal_to_snafu(value))"
   ]
  }
 ],
 "metadata": {
  "kernelspec": {
   "display_name": "Python 3 (ipykernel)",
   "language": "python",
   "name": "python3"
  },
  "language_info": {
   "codemirror_mode": {
    "name": "ipython",
    "version": 3
   },
   "file_extension": ".py",
   "mimetype": "text/x-python",
   "name": "python",
   "nbconvert_exporter": "python",
   "pygments_lexer": "ipython3",
   "version": "3.10.9"
  }
 },
 "nbformat": 4,
 "nbformat_minor": 5
}
