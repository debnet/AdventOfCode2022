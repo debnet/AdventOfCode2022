{
 "cells": [
  {
   "cell_type": "code",
   "execution_count": 1,
   "id": "2b3dd584-11d6-4396-aaf8-e5d904d54ab3",
   "metadata": {},
   "outputs": [],
   "source": [
    "import re\n",
    "from collections import deque\n",
    "\n",
    "regex_stack = re.compile(r\"(((\\[(\\w)\\])|\\s{3})\\s)\")\n",
    "regex_order = re.compile(r\"move (\\d+) from (\\d+) to (\\d+)\")"
   ]
  },
  {
   "cell_type": "code",
   "execution_count": 2,
   "id": "c8aa7fd4-50c2-4d52-a31d-15525801948f",
   "metadata": {},
   "outputs": [
    {
     "data": {
      "text/plain": [
       "'FJSRQCFTN'"
      ]
     },
     "execution_count": 2,
     "metadata": {},
     "output_type": "execute_result"
    }
   ],
   "source": [
    "stacks = {}\n",
    "with open(\"Day05.txt\") as file:\n",
    "    for line in file:\n",
    "        if matches := regex_stack.findall(line):\n",
    "            for i, (*_, crate) in enumerate(matches, start=1):\n",
    "                stack = stacks.setdefault(i, deque())\n",
    "                if not crate:\n",
    "                    continue\n",
    "                stack.appendleft(crate)\n",
    "        elif match := regex_order.match(line):\n",
    "            amount, from_stack, to_stack = map(int, match.groups())\n",
    "            for i in range(amount):\n",
    "                stacks[to_stack].append(stacks[from_stack].pop())\n",
    "''.join(stack[-1] for i, stack in sorted(stacks.items()))"
   ]
  },
  {
   "cell_type": "code",
   "execution_count": 3,
   "id": "d037bb54-e0b1-49f0-ab09-d3ad0b63d4ef",
   "metadata": {},
   "outputs": [
    {
     "data": {
      "text/plain": [
       "'CJVLJQPHS'"
      ]
     },
     "execution_count": 3,
     "metadata": {},
     "output_type": "execute_result"
    }
   ],
   "source": [
    "stacks = {}\n",
    "with open(\"Day05.txt\") as file:\n",
    "    for line in file:\n",
    "        if matches := regex_stack.findall(line):\n",
    "            for i, (*_, crate) in enumerate(matches, start=1):\n",
    "                stack = stacks.setdefault(i, deque())\n",
    "                if not crate:\n",
    "                    continue\n",
    "                stack.appendleft(crate)\n",
    "        elif match := regex_order.match(line):\n",
    "            amount, from_stack, to_stack = map(int, match.groups())\n",
    "            temp_stack = deque()\n",
    "            for i in range(amount):\n",
    "                temp_stack.appendleft(stacks[from_stack].pop())\n",
    "            stacks[to_stack].extend(temp_stack)\n",
    "''.join(stack[-1] for i, stack in sorted(stacks.items()))"
   ]
  }
 ],
 "metadata": {
  "kernelspec": {
   "display_name": "Python 3 (ipykernel)",
   "language": "python",
   "name": "python3"
  },
  "language_info": {
   "codemirror_mode": {
    "name": "ipython",
    "version": 3
   },
   "file_extension": ".py",
   "mimetype": "text/x-python",
   "name": "python",
   "nbconvert_exporter": "python",
   "pygments_lexer": "ipython3",
   "version": "3.10.7"
  }
 },
 "nbformat": 4,
 "nbformat_minor": 5
}
