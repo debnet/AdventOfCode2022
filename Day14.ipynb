{
 "cells": [
  {
   "cell_type": "code",
   "execution_count": 1,
   "id": "832e0ca7-abca-4615-857d-2e6f04ad169a",
   "metadata": {},
   "outputs": [],
   "source": [
    "import ast\n",
    "\n",
    "paths = []\n",
    "with open(\"Day14.txt\") as file:\n",
    "    for line in file:\n",
    "        line = \"(\" + line.replace(\" -\", \"),\").replace(\"> \", \"(\") + \")\"\n",
    "        paths.append(ast.literal_eval(line))"
   ]
  },
  {
   "cell_type": "code",
   "execution_count": 2,
   "id": "e30dd932-245b-444e-ae70-1a0592243324",
   "metadata": {},
   "outputs": [],
   "source": [
    "def nrange(a, b):\n",
    "    if a - b > 0:\n",
    "        yield from range(a, b - 1, -1)\n",
    "    else:\n",
    "        yield from range(a, b + 1)\n",
    "    \n",
    "blocks, max_depth = {}, 0\n",
    "for path in paths:\n",
    "    start = path[0]\n",
    "    for dx, dy in path[1:]:\n",
    "        (ox, oy) = start\n",
    "        for y in nrange(oy, dy):\n",
    "            for x in nrange(ox, dx):\n",
    "                blocks[x, y] = 1\n",
    "            max_depth = max(max_depth, y)\n",
    "        start = (dx, dy)"
   ]
  },
  {
   "cell_type": "code",
   "execution_count": 3,
   "id": "6e823412-0062-4dbc-9186-70271f9da15f",
   "metadata": {},
   "outputs": [],
   "source": [
    "def fall(grid, x, y, max_depth=None, floor=None):\n",
    "    if max_depth and y > max_depth:\n",
    "        return None\n",
    "    for sx in (0, -1, +1):\n",
    "        value = grid.get((x + sx, y + 1))\n",
    "        if value or y + 1 == floor:\n",
    "            continue\n",
    "        return fall(grid, x + sx, y + 1, max_depth=max_depth, floor=floor)\n",
    "    return x, y"
   ]
  },
  {
   "cell_type": "code",
   "execution_count": 4,
   "id": "74961f2e-475c-448e-8e5d-3b7027419e33",
   "metadata": {},
   "outputs": [
    {
     "data": {
      "text/plain": [
       "578"
      ]
     },
     "execution_count": 4,
     "metadata": {},
     "output_type": "execute_result"
    }
   ],
   "source": [
    "sand = 0\n",
    "while (pos := fall(blocks, 500, 0, max_depth=max_depth)):\n",
    "    blocks[pos] = 2\n",
    "    sand += 1\n",
    "sand"
   ]
  },
  {
   "cell_type": "code",
   "execution_count": 5,
   "id": "4485e7e0-f9d3-4d84-8a5d-30d55ab0470f",
   "metadata": {},
   "outputs": [
    {
     "name": "stdout",
     "output_type": "stream",
     "text": [
      "CPU times: user 1.39 s, sys: 1.98 ms, total: 1.39 s\n",
      "Wall time: 1.39 s\n"
     ]
    },
    {
     "data": {
      "text/plain": [
       "24377"
      ]
     },
     "execution_count": 5,
     "metadata": {},
     "output_type": "execute_result"
    }
   ],
   "source": [
    "%%time\n",
    "while pos != (500, 0):\n",
    "    blocks[pos] = 2\n",
    "    sand += 1\n",
    "    pos = fall(blocks, 500, 0, floor=max_depth + 2)\n",
    "sand"
   ]
  }
 ],
 "metadata": {
  "kernelspec": {
   "display_name": "Python 3 (ipykernel)",
   "language": "python",
   "name": "python3"
  },
  "language_info": {
   "codemirror_mode": {
    "name": "ipython",
    "version": 3
   },
   "file_extension": ".py",
   "mimetype": "text/x-python",
   "name": "python",
   "nbconvert_exporter": "python",
   "pygments_lexer": "ipython3",
   "version": "3.10.9"
  }
 },
 "nbformat": 4,
 "nbformat_minor": 5
}
