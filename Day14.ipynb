{
 "cells": [
  {
   "cell_type": "code",
   "execution_count": 1,
   "id": "832e0ca7-abca-4615-857d-2e6f04ad169a",
   "metadata": {},
   "outputs": [],
   "source": [
    "import ast\n",
    "\n",
    "paths = []\n",
    "with open(\"Day14.txt\") as file:\n",
    "    for line in file:\n",
    "        line = \"(\" + line.replace(\" -\", \"),\").replace(\"> \", \"(\") + \")\"\n",
    "        paths.append(ast.literal_eval(line))"
   ]
  },
  {
   "cell_type": "code",
   "execution_count": 2,
   "id": "e30dd932-245b-444e-ae70-1a0592243324",
   "metadata": {},
   "outputs": [],
   "source": [
    "def nrange(a, b):\n",
    "    if a - b > 0:\n",
    "        yield from range(a, b - 1, -1)\n",
    "    else:\n",
    "        yield from range(a, b + 1)\n",
    "    \n",
    "blocks, height = {}, 0\n",
    "for path in paths:\n",
    "    start = path[0]\n",
    "    for dx, dy in path[1:]:\n",
    "        (ox, oy) = start\n",
    "        for y in nrange(oy, dy):\n",
    "            for x in nrange(ox, dx):\n",
    "                blocks[x, y] = 1\n",
    "            height = max(height, y)\n",
    "        start = (dx, dy)"
   ]
  },
  {
   "cell_type": "code",
   "execution_count": 3,
   "id": "6e823412-0062-4dbc-9186-70271f9da15f",
   "metadata": {},
   "outputs": [],
   "source": [
    "def fall(grid, x, y, maxi=None, floor=None):\n",
    "    if maxi and y > maxi:\n",
    "        return None\n",
    "    for sx in (0, -1, +1):\n",
    "        value = grid.get((x + sx, y + 1))\n",
    "        if value or y + 1 == floor:\n",
    "            continue\n",
    "        return fall(grid, x + sx, y + 1, maxi=maxi, floor=floor)\n",
    "    return x, y"
   ]
  },
  {
   "cell_type": "code",
   "execution_count": 4,
   "id": "74961f2e-475c-448e-8e5d-3b7027419e33",
   "metadata": {},
   "outputs": [
    {
     "data": {
      "text/plain": [
       "578"
      ]
     },
     "execution_count": 4,
     "metadata": {},
     "output_type": "execute_result"
    }
   ],
   "source": [
    "sand = 0\n",
    "grid = blocks.copy()\n",
    "while (pos := fall(grid, 500, 0, maxi=height)):\n",
    "    grid[pos] = 2\n",
    "    sand += 1\n",
    "sand"
   ]
  },
  {
   "cell_type": "code",
   "execution_count": 5,
   "id": "4485e7e0-f9d3-4d84-8a5d-30d55ab0470f",
   "metadata": {},
   "outputs": [
    {
     "data": {
      "text/plain": [
       "24377"
      ]
     },
     "execution_count": 5,
     "metadata": {},
     "output_type": "execute_result"
    }
   ],
   "source": [
    "sand = 0\n",
    "grid = blocks.copy()\n",
    "while (pos := fall(grid, 500, 0, floor=height + 2)) != (500, 0):\n",
    "    grid[pos] = 2\n",
    "    sand += 1\n",
    "sand + 1"
   ]
  }
 ],
 "metadata": {
  "kernelspec": {
   "display_name": "Python 3 (ipykernel)",
   "language": "python",
   "name": "python3"
  },
  "language_info": {
   "codemirror_mode": {
    "name": "ipython",
    "version": 3
   },
   "file_extension": ".py",
   "mimetype": "text/x-python",
   "name": "python",
   "nbconvert_exporter": "python",
   "pygments_lexer": "ipython3",
   "version": "3.10.9"
  }
 },
 "nbformat": 4,
 "nbformat_minor": 5
}
