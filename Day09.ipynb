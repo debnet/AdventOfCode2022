{
 "cells": [
  {
   "cell_type": "code",
   "execution_count": 1,
   "id": "1e264a07-8fd2-4c42-a454-98e283cb82ca",
   "metadata": {},
   "outputs": [],
   "source": [
    "actions = []\n",
    "with open(\"Day09.txt\") as file:\n",
    "    for line in file:\n",
    "        direction, count = line.strip().split()\n",
    "        actions.append((direction, int(count)))"
   ]
  },
  {
   "cell_type": "code",
   "execution_count": 2,
   "id": "0d677831-3abb-4dea-b200-9c0ca5dd517f",
   "metadata": {},
   "outputs": [],
   "source": [
    "def move(a, b):\n",
    "    (ax, ay), (bx, by) = a, b\n",
    "    dx, dy = ax - bx, ay - by\n",
    "    if abs(dx) <= 1 and abs(dy) <= 1:\n",
    "        return\n",
    "    if abs(dx) < abs(dy):\n",
    "        return ax, ay - dy // abs(dy)\n",
    "    elif abs(dx) > abs(dy):\n",
    "        return ax - dx // abs(dx), ay\n",
    "    else:\n",
    "        return ax - dx // abs(dx), ay - dy // abs(dy)"
   ]
  },
  {
   "cell_type": "code",
   "execution_count": 3,
   "id": "22364fd9-1181-41d8-a13b-345ec76102db",
   "metadata": {},
   "outputs": [],
   "source": [
    "directions = {\n",
    "    \"R\": (+1, +0),\n",
    "    \"L\": (-1, +0),\n",
    "    \"D\": (+0, +1),\n",
    "    \"U\": (+0, -1),\n",
    "}\n",
    "\n",
    "def run(length=2):\n",
    "    rope, visited = {i: (0, 0) for i in range(length)}, {(0, 0)}\n",
    "    for direction, count in actions:\n",
    "        sx, sy = directions[direction]\n",
    "        for _ in range(count):\n",
    "            hx, hy = rope[0]\n",
    "            rope[0] = (hx + sx, hy + sy)\n",
    "            for i in rope:\n",
    "                if not i:\n",
    "                    continue\n",
    "                prev, knot = rope[i-1], rope[i]\n",
    "                if moved := move(prev, knot):\n",
    "                    rope[i] = moved\n",
    "            visited.add(rope[i])\n",
    "    return len(visited)"
   ]
  },
  {
   "cell_type": "code",
   "execution_count": 4,
   "id": "0bc9c7a0-e839-4868-acc3-c4fdc78c7c48",
   "metadata": {},
   "outputs": [
    {
     "data": {
      "text/plain": [
       "6470"
      ]
     },
     "execution_count": 4,
     "metadata": {},
     "output_type": "execute_result"
    }
   ],
   "source": [
    "run(2)"
   ]
  },
  {
   "cell_type": "code",
   "execution_count": 5,
   "id": "e6f96a19-5177-461a-852c-ec607ec8c278",
   "metadata": {},
   "outputs": [
    {
     "data": {
      "text/plain": [
       "2658"
      ]
     },
     "execution_count": 5,
     "metadata": {},
     "output_type": "execute_result"
    }
   ],
   "source": [
    "run(10)"
   ]
  }
 ],
 "metadata": {
  "kernelspec": {
   "display_name": "Python 3 (ipykernel)",
   "language": "python",
   "name": "python3"
  },
  "language_info": {
   "codemirror_mode": {
    "name": "ipython",
    "version": 3
   },
   "file_extension": ".py",
   "mimetype": "text/x-python",
   "name": "python",
   "nbconvert_exporter": "python",
   "pygments_lexer": "ipython3",
   "version": "3.10.9"
  }
 },
 "nbformat": 4,
 "nbformat_minor": 5
}
