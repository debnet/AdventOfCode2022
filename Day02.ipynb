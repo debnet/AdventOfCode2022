{
 "cells": [
  {
   "cell_type": "code",
   "execution_count": 1,
   "id": "8adb132a-3e19-405d-9a10-c53f9bb96db3",
   "metadata": {},
   "outputs": [],
   "source": [
    "rounds = []\n",
    "with open(\"Day02.txt\") as file:\n",
    "    for line in file:\n",
    "        rounds.append(line.strip())"
   ]
  },
  {
   "cell_type": "code",
   "execution_count": 2,
   "id": "c7e09f1a-ebf8-45d9-8465-7f4935892120",
   "metadata": {},
   "outputs": [
    {
     "data": {
      "text/plain": [
       "15572"
      ]
     },
     "execution_count": 2,
     "metadata": {},
     "output_type": "execute_result"
    }
   ],
   "source": [
    "strategy1 = {\n",
    "    \"A X\": 1 + 3,\n",
    "    \"A Y\": 2 + 6,\n",
    "    \"A Z\": 3 + 0,\n",
    "    \"B X\": 1 + 0,\n",
    "    \"B Y\": 2 + 3,\n",
    "    \"B Z\": 3 + 6,\n",
    "    \"C X\": 1 + 6,\n",
    "    \"C Y\": 2 + 0,\n",
    "    \"C Z\": 3 + 3,\n",
    "}\n",
    "sum(map(strategy1.get, rounds))"
   ]
  },
  {
   "cell_type": "code",
   "execution_count": 3,
   "id": "728329f9-08ec-4f02-95e6-be484258a35d",
   "metadata": {},
   "outputs": [
    {
     "data": {
      "text/plain": [
       "16098"
      ]
     },
     "execution_count": 3,
     "metadata": {},
     "output_type": "execute_result"
    }
   ],
   "source": [
    "strategy2 = {\n",
    "    \"A X\": 3 + 0,\n",
    "    \"A Y\": 1 + 3,\n",
    "    \"A Z\": 2 + 6,\n",
    "    \"B X\": 1 + 0,\n",
    "    \"B Y\": 2 + 3,\n",
    "    \"B Z\": 3 + 6,\n",
    "    \"C X\": 2 + 0,\n",
    "    \"C Y\": 3 + 3,\n",
    "    \"C Z\": 1 + 6,\n",
    "}\n",
    "sum(map(strategy2.get, rounds))"
   ]
  }
 ],
 "metadata": {
  "kernelspec": {
   "display_name": "Python 3 (ipykernel)",
   "language": "python",
   "name": "python3"
  },
  "language_info": {
   "codemirror_mode": {
    "name": "ipython",
    "version": 3
   },
   "file_extension": ".py",
   "mimetype": "text/x-python",
   "name": "python",
   "nbconvert_exporter": "python",
   "pygments_lexer": "ipython3",
   "version": "3.10.7"
  }
 },
 "nbformat": 4,
 "nbformat_minor": 5
}
