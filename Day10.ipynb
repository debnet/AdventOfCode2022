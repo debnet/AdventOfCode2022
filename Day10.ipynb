{
 "cells": [
  {
   "cell_type": "code",
   "execution_count": 1,
   "id": "d27a5dc9-9fe4-4167-abc0-948538862d6c",
   "metadata": {},
   "outputs": [],
   "source": [
    "from collections import deque\n",
    "\n",
    "X, history, updates, queue = 1, {}, {}, deque()\n",
    "with open(\"Day10.txt\") as file:\n",
    "    commands = {cycle: command for cycle, command in enumerate(file.read().splitlines())}\n",
    "    for cycle in range(240):\n",
    "        if command := commands.get(cycle):\n",
    "            if command == \"noop\":\n",
    "                queue.appendleft(0)\n",
    "            else:\n",
    "                queue.appendleft(int(command.split()[-1]))\n",
    "        if value := updates.pop(cycle, None):\n",
    "            X += value\n",
    "        history[cycle + 1] = X\n",
    "        if queue and not updates:\n",
    "            if value := queue.pop():\n",
    "                updates[cycle + 2] = value\n",
    "            else:\n",
    "                updates[cycle + 1] = 0"
   ]
  },
  {
   "cell_type": "code",
   "execution_count": 2,
   "id": "83db9dc7-1ed0-4b9f-a963-38943d961691",
   "metadata": {},
   "outputs": [
    {
     "data": {
      "text/plain": [
       "10760"
      ]
     },
     "execution_count": 2,
     "metadata": {},
     "output_type": "execute_result"
    }
   ],
   "source": [
    "sum(cycle * value for cycle, value in history.items() if cycle in (20, 60, 100, 140, 180, 220))"
   ]
  },
  {
   "cell_type": "code",
   "execution_count": 3,
   "id": "89a27390-03c4-4e38-ad05-314981603a4b",
   "metadata": {},
   "outputs": [
    {
     "name": "stdout",
     "output_type": "stream",
     "text": [
      "####.###...##..###..#..#.####..##..#..#.\n",
      "#....#..#.#..#.#..#.#..#.#....#..#.#..#.\n",
      "###..#..#.#....#..#.####.###..#....####.\n",
      "#....###..#.##.###..#..#.#....#.##.#..#.\n",
      "#....#....#..#.#....#..#.#....#..#.#..#.\n",
      "#....#.....###.#....#..#.#.....###.#..#.\n"
     ]
    }
   ],
   "source": [
    "for cycle, value in sorted(history.items()):\n",
    "    position = (cycle - 1) % 40\n",
    "    if value - 1 <= position <= value + 1:\n",
    "        print(\"#\", end=\"\")\n",
    "    else:\n",
    "        print(\".\", end=\"\")\n",
    "    if not cycle % 40:\n",
    "        print()"
   ]
  }
 ],
 "metadata": {
  "kernelspec": {
   "display_name": "Python 3 (ipykernel)",
   "language": "python",
   "name": "python3"
  },
  "language_info": {
   "codemirror_mode": {
    "name": "ipython",
    "version": 3
   },
   "file_extension": ".py",
   "mimetype": "text/x-python",
   "name": "python",
   "nbconvert_exporter": "python",
   "pygments_lexer": "ipython3",
   "version": "3.10.9"
  }
 },
 "nbformat": 4,
 "nbformat_minor": 5
}
