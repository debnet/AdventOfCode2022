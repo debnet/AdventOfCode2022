{
 "cells": [
  {
   "cell_type": "code",
   "execution_count": 1,
   "id": "bbe6b424-ac02-4f7d-bcde-3cf3d7aea6a8",
   "metadata": {},
   "outputs": [],
   "source": [
    "from dataclasses import dataclass, field\n",
    "from math import prod, lcm\n",
    "from operator import attrgetter\n",
    "from typing import Callable, ClassVar\n",
    "from __future__ import annotations\n",
    "\n",
    "@dataclass\n",
    "class Monkey:\n",
    "    order: int\n",
    "    items: list[int]\n",
    "    operation: Callable[[int], int]\n",
    "    divisor: int\n",
    "    if_true: int\n",
    "    if_false: int\n",
    "    inspects: int = 0\n",
    "    monkeys: ClassVar[dict[int, Monkey]] = {}\n",
    "    \n",
    "    def __post_init__(self):\n",
    "        self.order = int(self.order)\n",
    "        self.items = list(map(int, self.items.split(\", \")))\n",
    "        self.operation = eval(f\"lambda old: {self.operation}\")\n",
    "        self.divisor = int(self.divisor)\n",
    "        self.if_true = int(self.if_true)\n",
    "        self.if_false = int(self.if_false)\n",
    "        Monkey.monkeys[self.order] = self\n",
    "        Monkey._lcm = 0\n",
    "        \n",
    "    def run(self, with_divide: bool=True, with_lcm: bool=False):\n",
    "        while self.items and (old := self.items.pop(0)):\n",
    "            self.inspects += 1\n",
    "            new = self.operation(old)\n",
    "            if with_divide:\n",
    "                new //= 3\n",
    "            if with_lcm:\n",
    "                new %= Monkey.lcm\n",
    "            index = self.if_false if new % self.divisor else self.if_true\n",
    "            Monkey.monkeys[index].items.append(new)\n",
    "            \n",
    "    @classmethod\n",
    "    @property\n",
    "    def lcm(cls):\n",
    "        if not cls._lcm:\n",
    "            cls._lcm = lcm(*(monkey.divisor for monkey in cls.monkeys.values()))\n",
    "        return cls._lcm"
   ]
  },
  {
   "cell_type": "code",
   "execution_count": 2,
   "id": "c5d6ab6d-77a4-4491-8745-e14af4b82433",
   "metadata": {},
   "outputs": [],
   "source": [
    "import re\n",
    "\n",
    "regexes = (\n",
    "    re.compile(r\"Monkey (?P<order>\\d+):\"),\n",
    "    re.compile(r\"Starting items: (?P<items>((\\d+)[, ]*)+)\"),\n",
    "    re.compile(r\"Operation: new = (?P<operation>.*)\"),\n",
    "    re.compile(r\"Test: divisible by (?P<divisor>\\d+)\"),\n",
    "    re.compile(f\"If true: throw to monkey (?P<if_true>\\d+)\"),\n",
    "    re.compile(f\"If false: throw to monkey (?P<if_false>\\d+)\"),\n",
    ")\n",
    "\n",
    "all_data = []\n",
    "with open(\"Day11.txt\") as file:\n",
    "    data = {}\n",
    "    for line in file:\n",
    "        if not line.strip():\n",
    "            all_data.append(data.copy())\n",
    "            data.clear()\n",
    "        for regex in regexes:\n",
    "            if match := regex.match(line.strip()):\n",
    "                for key, value in match.groupdict().items():\n",
    "                    data[key] = value\n",
    "    if data:\n",
    "        all_data.append(data.copy())\n",
    "\n",
    "sort_key = attrgetter(\"inspects\")"
   ]
  },
  {
   "cell_type": "code",
   "execution_count": 3,
   "id": "dafe8252-05f3-42b2-acc5-40635511be44",
   "metadata": {},
   "outputs": [
    {
     "data": {
      "text/plain": [
       "101436"
      ]
     },
     "execution_count": 3,
     "metadata": {},
     "output_type": "execute_result"
    }
   ],
   "source": [
    "monkeys = [Monkey(**data) for data in all_data]\n",
    "for i in range(20):\n",
    "    for monkey in monkeys:\n",
    "        monkey.run(with_divide=True)\n",
    "prod(monkey.inspects for monkey in sorted(monkeys, key=sort_key)[-2:])"
   ]
  },
  {
   "cell_type": "code",
   "execution_count": 4,
   "id": "09e60bee-135e-47e0-93e0-67dc52880b76",
   "metadata": {},
   "outputs": [
    {
     "data": {
      "text/plain": [
       "19754471646"
      ]
     },
     "execution_count": 4,
     "metadata": {},
     "output_type": "execute_result"
    }
   ],
   "source": [
    "monkeys = [Monkey(**data) for data in all_data]\n",
    "for i in range(10000):\n",
    "    for monkey in monkeys:\n",
    "        monkey.run(with_divide=False, with_lcm=True)\n",
    "prod(monkey.inspects for monkey in sorted(monkeys, key=sort_key)[-2:])"
   ]
  }
 ],
 "metadata": {
  "kernelspec": {
   "display_name": "Python 3 (ipykernel)",
   "language": "python",
   "name": "python3"
  },
  "language_info": {
   "codemirror_mode": {
    "name": "ipython",
    "version": 3
   },
   "file_extension": ".py",
   "mimetype": "text/x-python",
   "name": "python",
   "nbconvert_exporter": "python",
   "pygments_lexer": "ipython3",
   "version": "3.10.9"
  }
 },
 "nbformat": 4,
 "nbformat_minor": 5
}
