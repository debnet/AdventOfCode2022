{
 "cells": [
  {
   "cell_type": "code",
   "execution_count": 1,
   "id": "a84b123e-681a-4ee0-b51f-4b1a6b6787e9",
   "metadata": {},
   "outputs": [],
   "source": [
    "import networkx as nx\n",
    "import re\n",
    "\n",
    "regex_valve = re.compile(r\"Valve (?P<name>\\w+) has flow rate=(?P<rate>\\d+); tunnels? leads? to valves? (?P<valves>(\\w+[, ]*)+)\")\n",
    "\n",
    "all_data = {}\n",
    "with open(\"Day16.txt\") as file:\n",
    "    for line in file:\n",
    "        if match := regex_valve.match(line.strip()):\n",
    "            all_data[match[\"name\"]] = (int(match[\"rate\"]), match[\"valves\"].split(\", \"))\n",
    "\n",
    "graph = nx.DiGraph()\n",
    "for valve, (rate, valves) in all_data.items():\n",
    "    graph.add_node(valve, rate=rate) if rate else graph.add_node(valve)\n",
    "for valve, (rate, valves) in all_data.items():\n",
    "    for dest in valves:\n",
    "        graph.add_edge(valve, dest, weight=1)"
   ]
  },
  {
   "cell_type": "code",
   "execution_count": 2,
   "id": "65c35cb1-2bc3-44c2-85bd-2bab7bfc2f5c",
   "metadata": {},
   "outputs": [],
   "source": [
    "distances = {\n",
    "    node: {\n",
    "        dest: nx.shortest_path_length(graph, node, dest) \n",
    "        for dest in graph.nodes if node != dest\n",
    "    } for node in graph.nodes\n",
    "}\n",
    "\n",
    "def get_valves(valve=\"AA\", open_valves=None, time_left=30):\n",
    "    open_valves = tuple(open_valves or [])\n",
    "    for next_valve, data in graph.nodes.items():\n",
    "        if not data:\n",
    "            continue\n",
    "        if next_valve not in open_valves and (distance := distances[valve][next_valve]) < time_left:\n",
    "            yield from get_valves(next_valve, open_valves + (next_valve, ), time_left - distance - 1)\n",
    "    yield open_valves\n",
    "    \n",
    "def get_pressure(valves, time_left=30):\n",
    "    valve, pressure = \"AA\", 0\n",
    "    for next_valve in valves:\n",
    "        time_left -= distances[valve][next_valve] + 1\n",
    "        pressure += graph.nodes[next_valve][\"rate\"] * time_left\n",
    "        valve = next_valve\n",
    "    return pressure"
   ]
  },
  {
   "cell_type": "code",
   "execution_count": 3,
   "id": "7f886da7-3ab5-42c8-91d6-3e9e7864caab",
   "metadata": {},
   "outputs": [
    {
     "name": "stdout",
     "output_type": "stream",
     "text": [
      "CPU times: user 4.81 s, sys: 1.11 ms, total: 4.81 s\n",
      "Wall time: 4.83 s\n"
     ]
    },
    {
     "data": {
      "text/plain": [
       "2183"
      ]
     },
     "execution_count": 3,
     "metadata": {},
     "output_type": "execute_result"
    }
   ],
   "source": [
    "%%time\n",
    "max(get_pressure(valves) for valves in get_valves())"
   ]
  },
  {
   "cell_type": "code",
   "execution_count": 4,
   "id": "88f5869a-b4d9-4607-a7fa-b4564eadb42d",
   "metadata": {},
   "outputs": [
    {
     "name": "stdout",
     "output_type": "stream",
     "text": [
      "CPU times: user 10.4 s, sys: 4 ms, total: 10.4 s\n",
      "Wall time: 10.5 s\n"
     ]
    },
    {
     "data": {
      "text/plain": [
       "2911"
      ]
     },
     "execution_count": 4,
     "metadata": {},
     "output_type": "execute_result"
    }
   ],
   "source": [
    "%%time\n",
    "from itertools import permutations\n",
    "\n",
    "best_pressures = {}\n",
    "for valves in get_valves(time_left=26):\n",
    "    open_valves = frozenset(valves)\n",
    "    best_pressure = best_pressures.get(open_valves, 0)\n",
    "    best_pressures[open_valves] = max(best_pressure, get_pressure(valves, time_left=26))\n",
    "\n",
    "max_pressure = 0\n",
    "for (valves_1, pressure_1), (valves_2, pressure_2) in permutations(best_pressures.items(), 2):\n",
    "    if valves_1 & valves_2:\n",
    "        continue\n",
    "    max_pressure = max(max_pressure, pressure_1 + pressure_2)\n",
    "max_pressure"
   ]
  }
 ],
 "metadata": {
  "kernelspec": {
   "display_name": "Python 3 (ipykernel)",
   "language": "python",
   "name": "python3"
  },
  "language_info": {
   "codemirror_mode": {
    "name": "ipython",
    "version": 3
   },
   "file_extension": ".py",
   "mimetype": "text/x-python",
   "name": "python",
   "nbconvert_exporter": "python",
   "pygments_lexer": "ipython3",
   "version": "3.10.9"
  }
 },
 "nbformat": 4,
 "nbformat_minor": 5
}
