{
 "cells": [
  {
   "cell_type": "code",
   "execution_count": 1,
   "id": "d159fb7a-396a-4f1b-8d61-a6dc72ade32f",
   "metadata": {},
   "outputs": [],
   "source": [
    "grid, max_x, max_y = {}, 0, 0\n",
    "with open(\"Day08.txt\") as file:\n",
    "    for y, line in enumerate(file.read().splitlines()):\n",
    "        for x, value in enumerate(line):\n",
    "            grid[x, y] = int(value)\n",
    "        max_x, max_y = max(max_x, x), max(max_y, y)"
   ]
  },
  {
   "cell_type": "code",
   "execution_count": 2,
   "id": "978806e0-873c-43a6-9682-86eaae05e92c",
   "metadata": {},
   "outputs": [
    {
     "data": {
      "text/plain": [
       "1705"
      ]
     },
     "execution_count": 2,
     "metadata": {},
     "output_type": "execute_result"
    }
   ],
   "source": [
    "visible = set()\n",
    "# Top\n",
    "for x in range(max_x + 1):\n",
    "    max_size = -1\n",
    "    for y in range(max_y + 1):\n",
    "        current_size, previous_size = grid[x, y], grid.get((x, y - 1), -1)\n",
    "        max_size = max(max_size, previous_size)\n",
    "        if previous_size < current_size and current_size > max_size:\n",
    "            visible.add((x, y))\n",
    "# Left\n",
    "for y in range(max_y + 1):\n",
    "    max_size = -1\n",
    "    for x in range(max_x + 1):\n",
    "        current_size, previous_size = grid[x, y], grid.get((x - 1, y), -1)\n",
    "        max_size = max(max_size, previous_size)\n",
    "        if previous_size < current_size and current_size > max_size:\n",
    "            visible.add((x, y))\n",
    "# Bottom\n",
    "for x in range(max_x + 1):\n",
    "    max_size = -1\n",
    "    for y in range(max_y, 0, -1):\n",
    "        current_size, previous_size = grid[x, y], grid.get((x, y + 1), -1)\n",
    "        max_size = max(max_size, previous_size)\n",
    "        if previous_size < current_size and current_size > max_size:\n",
    "            visible.add((x, y))\n",
    "# Right\n",
    "for y in range(max_y + 1):\n",
    "    max_size = -1\n",
    "    for x in range(max_x, 0, -1):\n",
    "        current_size, previous_size = grid[x, y], grid.get((x + 1, y), -1)\n",
    "        max_size = max(max_size, previous_size)\n",
    "        if previous_size < current_size and current_size > max_size:\n",
    "            visible.add((x, y))\n",
    "len(visible)"
   ]
  },
  {
   "cell_type": "code",
   "execution_count": 3,
   "id": "baabd4ba-8937-4bd0-a9bc-502b10f31047",
   "metadata": {},
   "outputs": [
    {
     "data": {
      "text/plain": [
       "371200"
      ]
     },
     "execution_count": 3,
     "metadata": {},
     "output_type": "execute_result"
    }
   ],
   "source": [
    "from math import prod\n",
    "\n",
    "scores = {}\n",
    "for y in range(max_y + 1):\n",
    "    for x in range(max_x + 1):\n",
    "        my_size = grid[x, y]\n",
    "        values = []\n",
    "        # Bottom\n",
    "        value, max_size = 0, -1\n",
    "        for sy in range(y + 1, max_y + 1):\n",
    "            value += 1\n",
    "            max_size = max(max_size, grid[x, sy])\n",
    "            if max_size >= my_size:\n",
    "                break\n",
    "        values.append(value)\n",
    "        # Right\n",
    "        value, max_size = 0, -1\n",
    "        for sx in range(x + 1, max_x + 1):\n",
    "            value += 1\n",
    "            max_size = max(max_size, grid[sx, y])\n",
    "            if max_size >= my_size:\n",
    "                break\n",
    "        values.append(value)\n",
    "        # Top\n",
    "        value, max_size = 0, -1\n",
    "        for sy in range(y - 1, -1, -1):\n",
    "            value += 1\n",
    "            max_size = max(max_size, grid[x, sy])\n",
    "            if max_size >= my_size:\n",
    "                break\n",
    "        values.append(value)\n",
    "        # Left\n",
    "        value, max_size = 0, -1\n",
    "        for sx in range(x - 1, -1, -1):\n",
    "            value += 1\n",
    "            max_size = max(max_size, grid[sx, y])\n",
    "            if max_size >= my_size:\n",
    "                break\n",
    "        values.append(value)\n",
    "        # Total\n",
    "        scores[x, y] = prod(values)\n",
    "max(scores.values())"
   ]
  }
 ],
 "metadata": {
  "kernelspec": {
   "display_name": "Python 3 (ipykernel)",
   "language": "python",
   "name": "python3"
  },
  "language_info": {
   "codemirror_mode": {
    "name": "ipython",
    "version": 3
   },
   "file_extension": ".py",
   "mimetype": "text/x-python",
   "name": "python",
   "nbconvert_exporter": "python",
   "pygments_lexer": "ipython3",
   "version": "3.10.9"
  }
 },
 "nbformat": 4,
 "nbformat_minor": 5
}
