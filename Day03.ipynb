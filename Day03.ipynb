{
 "cells": [
  {
   "cell_type": "code",
   "execution_count": 1,
   "id": "a197d24b-eeb9-4498-be2e-444039b4a7e8",
   "metadata": {},
   "outputs": [],
   "source": [
    "from collections import Counter\n",
    "from string import ascii_letters"
   ]
  },
  {
   "cell_type": "code",
   "execution_count": 2,
   "id": "0e07217f-c5cd-4d47-b9be-99d6d56ea15e",
   "metadata": {},
   "outputs": [
    {
     "data": {
      "text/plain": [
       "7997"
      ]
     },
     "execution_count": 2,
     "metadata": {},
     "output_type": "execute_result"
    }
   ],
   "source": [
    "rucksacks = Counter()\n",
    "with open(\"Day03.txt\") as file:\n",
    "    for line in file:\n",
    "        line = line.strip()\n",
    "        item1, item2 = line[:len(line)//2], line[len(line)//2:]\n",
    "        rucksacks.update(set(item1) & set(item2))\n",
    "\n",
    "sum(value * (ascii_letters.index(key) + 1) for key, value in rucksacks.items())"
   ]
  },
  {
   "cell_type": "code",
   "execution_count": 3,
   "id": "c31d4fbb-7ce5-4111-bf09-036d9a227a85",
   "metadata": {},
   "outputs": [
    {
     "data": {
      "text/plain": [
       "2545"
      ]
     },
     "execution_count": 3,
     "metadata": {},
     "output_type": "execute_result"
    }
   ],
   "source": [
    "groups = Counter()\n",
    "with open(\"Day03.txt\") as file:\n",
    "    group = []\n",
    "    for index, line in enumerate(file, start=1):\n",
    "        group.append(set(line.strip()))\n",
    "        if not index % 3:\n",
    "            groups.update(set.intersection(*group))\n",
    "            group.clear()\n",
    "\n",
    "sum(value * (ascii_letters.index(key) + 1) for key, value in groups.items())"
   ]
  }
 ],
 "metadata": {
  "kernelspec": {
   "display_name": "Python 3 (ipykernel)",
   "language": "python",
   "name": "python3"
  },
  "language_info": {
   "codemirror_mode": {
    "name": "ipython",
    "version": 3
   },
   "file_extension": ".py",
   "mimetype": "text/x-python",
   "name": "python",
   "nbconvert_exporter": "python",
   "pygments_lexer": "ipython3",
   "version": "3.10.7"
  }
 },
 "nbformat": 4,
 "nbformat_minor": 5
}
