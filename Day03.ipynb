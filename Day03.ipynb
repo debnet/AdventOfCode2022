{
 "cells": [
  {
   "cell_type": "code",
   "execution_count": 1,
   "id": "a197d24b-eeb9-4498-be2e-444039b4a7e8",
   "metadata": {},
   "outputs": [],
   "source": [
    "from collections import Counter\n",
    "from string import ascii_letters"
   ]
  },
  {
   "cell_type": "code",
   "execution_count": 2,
   "id": "852d9572-0989-4d69-83da-61c5db7bfcd3",
   "metadata": {},
   "outputs": [],
   "source": [
    "with open(\"Day03.txt\") as file:\n",
    "    rucksacks = file.read().splitlines()"
   ]
  },
  {
   "cell_type": "code",
   "execution_count": 3,
   "id": "0e07217f-c5cd-4d47-b9be-99d6d56ea15e",
   "metadata": {},
   "outputs": [
    {
     "data": {
      "text/plain": [
       "7997"
      ]
     },
     "execution_count": 3,
     "metadata": {},
     "output_type": "execute_result"
    }
   ],
   "source": [
    "priorities = Counter()\n",
    "for rucksack in rucksacks:\n",
    "    count = len(rucksack)\n",
    "    priorities.update(set(rucksack[:count//2]) & set(rucksack[count//2:]))\n",
    "\n",
    "sum(value * (ascii_letters.index(key) + 1) for key, value in priorities.items())"
   ]
  },
  {
   "cell_type": "code",
   "execution_count": 4,
   "id": "c31d4fbb-7ce5-4111-bf09-036d9a227a85",
   "metadata": {},
   "outputs": [
    {
     "data": {
      "text/plain": [
       "2545"
      ]
     },
     "execution_count": 4,
     "metadata": {},
     "output_type": "execute_result"
    }
   ],
   "source": [
    "priorities = Counter()\n",
    "for i in range(0, len(rucksacks), 3):\n",
    "    priorities.update(set.intersection(*map(set, rucksacks[i:i+3])))\n",
    "\n",
    "sum(value * (ascii_letters.index(key) + 1) for key, value in priorities.items())"
   ]
  }
 ],
 "metadata": {
  "kernelspec": {
   "display_name": "Python 3 (ipykernel)",
   "language": "python",
   "name": "python3"
  },
  "language_info": {
   "codemirror_mode": {
    "name": "ipython",
    "version": 3
   },
   "file_extension": ".py",
   "mimetype": "text/x-python",
   "name": "python",
   "nbconvert_exporter": "python",
   "pygments_lexer": "ipython3",
   "version": "3.10.7"
  }
 },
 "nbformat": 4,
 "nbformat_minor": 5
}
